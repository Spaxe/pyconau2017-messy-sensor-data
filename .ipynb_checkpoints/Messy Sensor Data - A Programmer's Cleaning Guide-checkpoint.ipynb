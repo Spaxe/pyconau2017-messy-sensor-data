{
 "cells": [
  {
   "cell_type": "code",
   "execution_count": 4,
   "metadata": {
    "slideshow": {
     "slide_type": "skip"
    }
   },
   "outputs": [],
   "source": [
    "# Note to presentation mode: run the first two cells before presenting.\n",
    "# Render our plots inline\n",
    "%matplotlib inline\n",
    "\n",
    "import pandas as pd\n",
    "import matplotlib\n",
    "import matplotlib.pyplot as plt\n",
    "\n",
    "# Make the graphs a bit prettier\n",
    "matplotlib.style.use('ggplot')\n",
    "plt.rcParams['figure.figsize'] = (18, 5)"
   ]
  },
  {
   "cell_type": "code",
   "execution_count": 5,
   "metadata": {
    "slideshow": {
     "slide_type": "skip"
    }
   },
   "outputs": [
    {
     "data": {
      "text/html": [
       "<!-- Not content, but for better presentation styles -->\n",
       "<style>\n",
       ".rise-enabled .rendered_html table.dataframe {\n",
       "    font-size: 16px;\n",
       "}\n",
       ".rendered_html code {\n",
       "    background: #EFEFEF;\n",
       "    border: 1px solid #CCC;\n",
       "    padding: 1px 5px;\n",
       "    border-radius: 1px;\n",
       "}\n",
       ".rise-enabled .fa-times-circle:before,\n",
       ".rise-enabled .fa-question:before,\n",
       ".rise-enabled aside.controls {\n",
       "    opacity: 0.1;\n",
       "}\n",
       ".rise-enabled a,\n",
       ".rise-enabled a:active,\n",
       ".rise-enabled a:hover,\n",
       ".rise-enabled a:visited,\n",
       ".rise-enabled :link {\n",
       "    text-decoration: none;\n",
       "    color: #A68910;\n",
       "}\n",
       "</style>\n"
      ],
      "text/plain": [
       "<IPython.core.display.HTML object>"
      ]
     },
     "metadata": {},
     "output_type": "display_data"
    }
   ],
   "source": [
    "%%HTML\n",
    "<!-- Not content, but for better presentation styles -->\n",
    "<style>\n",
    ".rise-enabled .rendered_html table.dataframe {\n",
    "    font-size: 16px;\n",
    "}\n",
    ".rendered_html code {\n",
    "    background: #EFEFEF;\n",
    "    border: 1px solid #CCC;\n",
    "    padding: 1px 5px;\n",
    "    border-radius: 1px;\n",
    "}\n",
    ".rise-enabled .fa-times-circle:before,\n",
    ".rise-enabled .fa-question:before,\n",
    ".rise-enabled aside.controls {\n",
    "    opacity: 0.1;\n",
    "}\n",
    ".rise-enabled a,\n",
    ".rise-enabled a:active,\n",
    ".rise-enabled a:hover,\n",
    ".rise-enabled a:visited,\n",
    ".rise-enabled :link {\n",
    "    text-decoration: none;\n",
    "    color: #A68910;\n",
    "}\n",
    "</style>"
   ]
  },
  {
   "cell_type": "markdown",
   "metadata": {
    "slideshow": {
     "slide_type": "slide"
    }
   },
   "source": [
    "# Messy Sensor Data:\n",
    "## A Programmer's Cleaning Guide\n",
    "* * *\n",
    "*@Xavier_Ho*, #pyconau\n",
    "\n",
    "<small>*Feel free to tag me on Twitter for questions and comments.*</small>"
   ]
  },
  {
   "cell_type": "markdown",
   "metadata": {
    "slideshow": {
     "slide_type": "slide"
    }
   },
   "source": [
    "# Related #pyconau talks\n",
    "\n",
    "This talk is a tutorial (thanks @evildmp!) for cleaning up messy data with `pandas`. You might also find these other ones useful:\n",
    "\n",
    " * [**Using Python in a Data Hackathon**](https://www.youtube.com/watch?v=Ck1Ns6D3rZc&list=PLs4CJRBY5F1KsK4AbFaPsUT8X8iXc7X84&index=21) - Tennessee Leeuwenburg\n",
    " * [**Visualising data with Python**](https://www.youtube.com/watch?v=6d3Yk7a2qYI&list=PLs4CJRBY5F1KsK4AbFaPsUT8X8iXc7X84&index=35) - Clare Sloggett\n",
    "\n",
    "Slides will be available online.\n",
    " \n",
    "There will be time for questions at the end - happy to navigate specific problems you may have."
   ]
  },
  {
   "cell_type": "markdown",
   "metadata": {
    "slideshow": {
     "slide_type": "slide"
    }
   },
   "source": [
    "# Motivation: healthy water"
   ]
  },
  {
   "cell_type": "markdown",
   "metadata": {
    "slideshow": {
     "slide_type": "fragment"
    }
   },
   "source": [
    "* Aquatic microorganisms thrive and die with seasonal temperatures."
   ]
  },
  {
   "cell_type": "markdown",
   "metadata": {
    "slideshow": {
     "slide_type": "fragment"
    }
   },
   "source": [
    "* Cyanobacteria, or \"blue-green algae\", produces oxygen in water."
   ]
  },
  {
   "cell_type": "markdown",
   "metadata": {
    "slideshow": {
     "slide_type": "fragment"
    }
   },
   "source": [
    "* Too much cyanobacteria in water is harmful to consume."
   ]
  },
  {
   "cell_type": "markdown",
   "metadata": {
    "slideshow": {
     "slide_type": "fragment"
    }
   },
   "source": [
    "* We model cyanobacteria in water with weather data."
   ]
  },
  {
   "cell_type": "markdown",
   "metadata": {
    "slideshow": {
     "slide_type": "fragment"
    }
   },
   "source": [
    "*In short: we can predict and track cyanobacteria, and keep our water healthy.*"
   ]
  },
  {
   "cell_type": "markdown",
   "metadata": {
    "slideshow": {
     "slide_type": "slide"
    }
   },
   "source": [
    "# Let's take a look at our weather sensor data..."
   ]
  },
  {
   "cell_type": "markdown",
   "metadata": {
    "slideshow": {
     "slide_type": "fragment"
    }
   },
   "source": [
    "In this talk, we use `pandas` for data wrangling.\n",
    "\n",
    "You can install it with your favourite package manager ([instructions](http://pandas.pydata.org/pandas-docs/stable/install.html)).\n",
    "\n",
    "```$ conda install pandas```\n",
    "\n"
   ]
  },
  {
   "cell_type": "markdown",
   "metadata": {
    "slideshow": {
     "slide_type": "fragment"
    }
   },
   "source": [
    "To begin:\n",
    " * `pandas.read_csv()`: Opens a CSV file as a **DataFrame**, like a table.\n",
    " * `DataFrame.head()`: Displays the first 5 entries."
   ]
  },
  {
   "cell_type": "markdown",
   "metadata": {
    "slideshow": {
     "slide_type": "slide"
    }
   },
   "source": [
    "# Read a CSV file"
   ]
  },
  {
   "cell_type": "code",
   "execution_count": 6,
   "metadata": {
    "slideshow": {
     "slide_type": "fragment"
    }
   },
   "outputs": [
    {
     "data": {
      "text/html": [
       "<div>\n",
       "<style scoped>\n",
       "    .dataframe tbody tr th:only-of-type {\n",
       "        vertical-align: middle;\n",
       "    }\n",
       "\n",
       "    .dataframe tbody tr th {\n",
       "        vertical-align: top;\n",
       "    }\n",
       "\n",
       "    .dataframe thead th {\n",
       "        text-align: right;\n",
       "    }\n",
       "</style>\n",
       "<table border=\"1\" class=\"dataframe\">\n",
       "  <thead>\n",
       "    <tr style=\"text-align: right;\">\n",
       "      <th></th>\n",
       "      <th>Date\\tTime\\tWind dir\\tWind spd\\tWind gust\\tTmp\\tDew pt\\tFeels like\\trh\\tFire\\tRain\\tRain 10'\\tPres</th>\n",
       "    </tr>\n",
       "  </thead>\n",
       "  <tbody>\n",
       "    <tr>\n",
       "      <th>0</th>\n",
       "      <td>01/01/2013\\tWed 00:00 EDT\\tWNW\\t9\\t9\\t19.6\\t0....</td>\n",
       "    </tr>\n",
       "    <tr>\n",
       "      <th>1</th>\n",
       "      <td>01/01/2013\\tTue 23:30 EDT\\tWNW\\t-\\t13\\t20.7\\t0...</td>\n",
       "    </tr>\n",
       "    <tr>\n",
       "      <th>2</th>\n",
       "      <td>01/01/2013\\tTue 23:00 EDT\\tW\\t9\\t11\\t22.8\\t0.9...</td>\n",
       "    </tr>\n",
       "    <tr>\n",
       "      <th>3</th>\n",
       "      <td>01/01/2013\\tTue 22:30 EDT\\tWNW\\t11\\t13\\t22.6\\t...</td>\n",
       "    </tr>\n",
       "    <tr>\n",
       "      <th>4</th>\n",
       "      <td>01/01/2013\\tTue 22:00 EDT\\tWNW\\t15\\t19\\t23.9\\t...</td>\n",
       "    </tr>\n",
       "  </tbody>\n",
       "</table>\n",
       "</div>"
      ],
      "text/plain": [
       "  Date\\tTime\\tWind dir\\tWind spd\\tWind gust\\tTmp\\tDew pt\\tFeels like\\trh\\tFire\\tRain\\tRain 10'\\tPres\n",
       "0  01/01/2013\\tWed 00:00 EDT\\tWNW\\t9\\t9\\t19.6\\t0....                                                \n",
       "1  01/01/2013\\tTue 23:30 EDT\\tWNW\\t-\\t13\\t20.7\\t0...                                                \n",
       "2  01/01/2013\\tTue 23:00 EDT\\tW\\t9\\t11\\t22.8\\t0.9...                                                \n",
       "3  01/01/2013\\tTue 22:30 EDT\\tWNW\\t11\\t13\\t22.6\\t...                                                \n",
       "4  01/01/2013\\tTue 22:00 EDT\\tWNW\\t15\\t19\\t23.9\\t...                                                "
      ]
     },
     "execution_count": 6,
     "metadata": {},
     "output_type": "execute_result"
    }
   ],
   "source": [
    "import pandas as pd\n",
    "\n",
    "# Open a comma-separated values (CSV) file as a DataFrame\n",
    "weather_observations = pd.read_csv('observations/Canberra_observations.csv')\n",
    "\n",
    "# Print the first 5 entries\n",
    "weather_observations.head()"
   ]
  },
  {
   "cell_type": "markdown",
   "metadata": {
    "slideshow": {
     "slide_type": "fragment"
    }
   },
   "source": [
    "The file seems to be tab seperated. There are dates, and some empty items. "
   ]
  },
  {
   "cell_type": "markdown",
   "metadata": {
    "slideshow": {
     "slide_type": "slide"
    }
   },
   "source": [
    "# Can we read it more clearly?"
   ]
  },
  {
   "cell_type": "markdown",
   "metadata": {
    "slideshow": {
     "slide_type": "fragment"
    }
   },
   "source": [
    "[`pandas.read_csv()`](http://pandas.pydata.org/pandas-docs/stable/generated/pandas.read_csv.html?highlight=read_csv#pandas.read_csv) is very versatile with keyword arguments."
   ]
  },
  {
   "cell_type": "markdown",
   "metadata": {
    "slideshow": {
     "slide_type": "fragment"
    }
   },
   "source": [
    " * `sep`: The separator between columns."
   ]
  },
  {
   "cell_type": "markdown",
   "metadata": {
    "slideshow": {
     "slide_type": "fragment"
    }
   },
   "source": [
    " * `parse_dates`: Treat one or more columns like dates.\n",
    " * `dayfirst`: Use DD.MM.YYYY format, not month first.\n",
    " * `infer_datetime_format`: Tell pandas to guess the date format."
   ]
  },
  {
   "cell_type": "markdown",
   "metadata": {
    "slideshow": {
     "slide_type": "fragment"
    }
   },
   "source": [
    " * `na_values`: Specify values to be treated as empty."
   ]
  },
  {
   "cell_type": "markdown",
   "metadata": {
    "slideshow": {
     "slide_type": "slide"
    }
   },
   "source": [
    "# Read a CSV file the 🐼🐼 way"
   ]
  },
  {
   "cell_type": "code",
   "execution_count": 7,
   "metadata": {
    "slideshow": {
     "slide_type": "fragment"
    }
   },
   "outputs": [
    {
     "data": {
      "text/html": [
       "<div>\n",
       "<style scoped>\n",
       "    .dataframe tbody tr th:only-of-type {\n",
       "        vertical-align: middle;\n",
       "    }\n",
       "\n",
       "    .dataframe tbody tr th {\n",
       "        vertical-align: top;\n",
       "    }\n",
       "\n",
       "    .dataframe thead th {\n",
       "        text-align: right;\n",
       "    }\n",
       "</style>\n",
       "<table border=\"1\" class=\"dataframe\">\n",
       "  <thead>\n",
       "    <tr style=\"text-align: right;\">\n",
       "      <th></th>\n",
       "      <th>Date\\tTime\\tWind dir\\tWind spd\\tWind gust\\tTmp\\tDew pt\\tFeels like\\trh\\tFire\\tRain\\tRain 10'\\tPres</th>\n",
       "    </tr>\n",
       "  </thead>\n",
       "  <tbody>\n",
       "    <tr>\n",
       "      <th>0</th>\n",
       "      <td>01/01/2013\\tWed 00:00 EDT\\tWNW\\t9\\t9\\t19.6\\t0....</td>\n",
       "    </tr>\n",
       "    <tr>\n",
       "      <th>1</th>\n",
       "      <td>01/01/2013\\tTue 23:30 EDT\\tWNW\\t-\\t13\\t20.7\\t0...</td>\n",
       "    </tr>\n",
       "    <tr>\n",
       "      <th>2</th>\n",
       "      <td>01/01/2013\\tTue 23:00 EDT\\tW\\t9\\t11\\t22.8\\t0.9...</td>\n",
       "    </tr>\n",
       "    <tr>\n",
       "      <th>3</th>\n",
       "      <td>01/01/2013\\tTue 22:30 EDT\\tWNW\\t11\\t13\\t22.6\\t...</td>\n",
       "    </tr>\n",
       "    <tr>\n",
       "      <th>4</th>\n",
       "      <td>01/01/2013\\tTue 22:00 EDT\\tWNW\\t15\\t19\\t23.9\\t...</td>\n",
       "    </tr>\n",
       "  </tbody>\n",
       "</table>\n",
       "</div>"
      ],
      "text/plain": [
       "  Date\\tTime\\tWind dir\\tWind spd\\tWind gust\\tTmp\\tDew pt\\tFeels like\\trh\\tFire\\tRain\\tRain 10'\\tPres\n",
       "0  01/01/2013\\tWed 00:00 EDT\\tWNW\\t9\\t9\\t19.6\\t0....                                                \n",
       "1  01/01/2013\\tTue 23:30 EDT\\tWNW\\t-\\t13\\t20.7\\t0...                                                \n",
       "2  01/01/2013\\tTue 23:00 EDT\\tW\\t9\\t11\\t22.8\\t0.9...                                                \n",
       "3  01/01/2013\\tTue 22:30 EDT\\tWNW\\t11\\t13\\t22.6\\t...                                                \n",
       "4  01/01/2013\\tTue 22:00 EDT\\tWNW\\t15\\t19\\t23.9\\t...                                                "
      ]
     },
     "execution_count": 7,
     "metadata": {},
     "output_type": "execute_result"
    }
   ],
   "source": [
    "# Supply pandas with some hints about the file to read\n",
    "weather_observations = pd.read_csv('observations/Canberra_observations.csv',\n",
    "#                                    sep='\\t',\n",
    "#                                    parse_dates={'Datetime': ['Date', 'Time']},\n",
    "#                                    dayfirst=True,\n",
    "#                                    infer_datetime_format=True,\n",
    "#                                    na_values=['-'],\n",
    "                                  )\n",
    "# Display some entries\n",
    "weather_observations.head()"
   ]
  },
  {
   "cell_type": "markdown",
   "metadata": {
    "slideshow": {
     "slide_type": "fragment"
    }
   },
   "source": [
    "Note: `NaN` in the table above means **empty**, *not the floating-point number value*."
   ]
  },
  {
   "cell_type": "code",
   "execution_count": 31,
   "metadata": {
    "slideshow": {
     "slide_type": "skip"
    }
   },
   "outputs": [
    {
     "name": "stderr",
     "output_type": "stream",
     "text": [
      "c:\\users\\conta\\appdata\\local\\programs\\python\\python38\\lib\\site-packages\\dateutil\\parser\\_parser.py:1213: UnknownTimezoneWarning: tzname EDT identified but not understood.  Pass `tzinfos` argument in order to correctly return a timezone-aware datetime.  In a future version, this will raise an exception.\n",
      "  warnings.warn(\"tzname {tzname} identified but not understood.  \"\n",
      "c:\\users\\conta\\appdata\\local\\programs\\python\\python38\\lib\\site-packages\\dateutil\\parser\\_parser.py:1213: UnknownTimezoneWarning: tzname EST identified but not understood.  Pass `tzinfos` argument in order to correctly return a timezone-aware datetime.  In a future version, this will raise an exception.\n",
      "  warnings.warn(\"tzname {tzname} identified but not understood.  \"\n"
     ]
    },
    {
     "data": {
      "text/html": [
       "<div>\n",
       "<style scoped>\n",
       "    .dataframe tbody tr th:only-of-type {\n",
       "        vertical-align: middle;\n",
       "    }\n",
       "\n",
       "    .dataframe tbody tr th {\n",
       "        vertical-align: top;\n",
       "    }\n",
       "\n",
       "    .dataframe thead th {\n",
       "        text-align: right;\n",
       "    }\n",
       "</style>\n",
       "<table border=\"1\" class=\"dataframe\">\n",
       "  <thead>\n",
       "    <tr style=\"text-align: right;\">\n",
       "      <th></th>\n",
       "      <th>Datetime</th>\n",
       "      <th>Wind dir</th>\n",
       "      <th>Wind spd</th>\n",
       "      <th>Wind gust</th>\n",
       "      <th>Tmp</th>\n",
       "      <th>Dew pt</th>\n",
       "      <th>Feels like</th>\n",
       "      <th>rh</th>\n",
       "      <th>Fire</th>\n",
       "      <th>Rain</th>\n",
       "      <th>Rain 10'</th>\n",
       "      <th>Pres</th>\n",
       "    </tr>\n",
       "  </thead>\n",
       "  <tbody>\n",
       "    <tr>\n",
       "      <th>0</th>\n",
       "      <td>2013-01-01 00:00:00</td>\n",
       "      <td>WNW</td>\n",
       "      <td>9.0</td>\n",
       "      <td>9.0</td>\n",
       "      <td>19.6</td>\n",
       "      <td>0.1</td>\n",
       "      <td>19.6</td>\n",
       "      <td>27.0</td>\n",
       "      <td>12.0</td>\n",
       "      <td>0.0</td>\n",
       "      <td>0.0</td>\n",
       "      <td>1011.4</td>\n",
       "    </tr>\n",
       "    <tr>\n",
       "      <th>1</th>\n",
       "      <td>2013-01-01 23:30:00</td>\n",
       "      <td>WNW</td>\n",
       "      <td>NaN</td>\n",
       "      <td>13.0</td>\n",
       "      <td>20.7</td>\n",
       "      <td>0.7</td>\n",
       "      <td>20.7</td>\n",
       "      <td>26.0</td>\n",
       "      <td>13.0</td>\n",
       "      <td>0.0</td>\n",
       "      <td>0.0</td>\n",
       "      <td>1011.1</td>\n",
       "    </tr>\n",
       "    <tr>\n",
       "      <th>2</th>\n",
       "      <td>2013-01-01 23:00:00</td>\n",
       "      <td>W</td>\n",
       "      <td>9.0</td>\n",
       "      <td>11.0</td>\n",
       "      <td>22.8</td>\n",
       "      <td>0.9</td>\n",
       "      <td>22.8</td>\n",
       "      <td>23.0</td>\n",
       "      <td>15.0</td>\n",
       "      <td>0.0</td>\n",
       "      <td>0.0</td>\n",
       "      <td>1011.0</td>\n",
       "    </tr>\n",
       "    <tr>\n",
       "      <th>3</th>\n",
       "      <td>2013-01-01 22:30:00</td>\n",
       "      <td>WNW</td>\n",
       "      <td>11.0</td>\n",
       "      <td>13.0</td>\n",
       "      <td>22.6</td>\n",
       "      <td>-1.0</td>\n",
       "      <td>22.6</td>\n",
       "      <td>21.0</td>\n",
       "      <td>17.0</td>\n",
       "      <td>0.0</td>\n",
       "      <td>0.0</td>\n",
       "      <td>1011.0</td>\n",
       "    </tr>\n",
       "    <tr>\n",
       "      <th>4</th>\n",
       "      <td>2013-01-01 22:00:00</td>\n",
       "      <td>WNW</td>\n",
       "      <td>15.0</td>\n",
       "      <td>19.0</td>\n",
       "      <td>23.9</td>\n",
       "      <td>-2.2</td>\n",
       "      <td>23.9</td>\n",
       "      <td>18.0</td>\n",
       "      <td>21.0</td>\n",
       "      <td>0.0</td>\n",
       "      <td>0.0</td>\n",
       "      <td>1011.1</td>\n",
       "    </tr>\n",
       "  </tbody>\n",
       "</table>\n",
       "</div>"
      ],
      "text/plain": [
       "             Datetime Wind dir  Wind spd  Wind gust   Tmp  Dew pt  Feels like  \\\n",
       "0 2013-01-01 00:00:00      WNW       9.0        9.0  19.6     0.1        19.6   \n",
       "1 2013-01-01 23:30:00      WNW       NaN       13.0  20.7     0.7        20.7   \n",
       "2 2013-01-01 23:00:00        W       9.0       11.0  22.8     0.9        22.8   \n",
       "3 2013-01-01 22:30:00      WNW      11.0       13.0  22.6    -1.0        22.6   \n",
       "4 2013-01-01 22:00:00      WNW      15.0       19.0  23.9    -2.2        23.9   \n",
       "\n",
       "     rh  Fire  Rain  Rain 10'    Pres  \n",
       "0  27.0  12.0   0.0       0.0  1011.4  \n",
       "1  26.0  13.0   0.0       0.0  1011.1  \n",
       "2  23.0  15.0   0.0       0.0  1011.0  \n",
       "3  21.0  17.0   0.0       0.0  1011.0  \n",
       "4  18.0  21.0   0.0       0.0  1011.1  "
      ]
     },
     "execution_count": 31,
     "metadata": {},
     "output_type": "execute_result"
    }
   ],
   "source": [
    "# For consistency between slides\n",
    "weather_observations = pd.read_csv('observations/Canberra_observations.csv',\n",
    "                                   sep='\\t',\n",
    "                                   parse_dates={'Datetime': ['Date', 'Time']},\n",
    "                                   dayfirst=True,\n",
    "                                   infer_datetime_format=True,\n",
    "                                   na_values=['-']\n",
    "                                  )\n",
    "weather_observations.head()"
   ]
  },
  {
   "cell_type": "markdown",
   "metadata": {
    "slideshow": {
     "slide_type": "slide"
    }
   },
   "source": [
    "# Small steps in data cleaning"
   ]
  },
  {
   "cell_type": "markdown",
   "metadata": {
    "slideshow": {
     "slide_type": "fragment"
    }
   },
   "source": [
    "The data seems complete, but still has some issues:"
   ]
  },
  {
   "cell_type": "markdown",
   "metadata": {
    "slideshow": {
     "slide_type": "fragment"
    }
   },
   "source": [
    "* Each day includes midnight, and another midnight next day.\n",
    "* Order starts at end of day and goes backwards in time."
   ]
  },
  {
   "cell_type": "markdown",
   "metadata": {
    "slideshow": {
     "slide_type": "fragment"
    }
   },
   "source": [
    "`pandas` offers some functions to help us out:\n",
    " * `DataFrame.drop_duplicates()`: Delete duplicated items.\n",
    " * `DataFrame.sort_values()`: Rearrange in order.\n",
    " * `DataFrame.set_index()`: Specify a column to use as index."
   ]
  },
  {
   "cell_type": "markdown",
   "metadata": {
    "slideshow": {
     "slide_type": "slide"
    }
   },
   "source": [
    "# Keep order in our data"
   ]
  },
  {
   "cell_type": "code",
   "execution_count": 33,
   "metadata": {
    "slideshow": {
     "slide_type": "fragment"
    }
   },
   "outputs": [
    {
     "data": {
      "text/html": [
       "<div>\n",
       "<style scoped>\n",
       "    .dataframe tbody tr th:only-of-type {\n",
       "        vertical-align: middle;\n",
       "    }\n",
       "\n",
       "    .dataframe tbody tr th {\n",
       "        vertical-align: top;\n",
       "    }\n",
       "\n",
       "    .dataframe thead th {\n",
       "        text-align: right;\n",
       "    }\n",
       "</style>\n",
       "<table border=\"1\" class=\"dataframe\">\n",
       "  <thead>\n",
       "    <tr style=\"text-align: right;\">\n",
       "      <th></th>\n",
       "      <th>Datetime</th>\n",
       "      <th>Wind dir</th>\n",
       "      <th>Wind spd</th>\n",
       "      <th>Wind gust</th>\n",
       "      <th>Tmp</th>\n",
       "      <th>Dew pt</th>\n",
       "      <th>Feels like</th>\n",
       "      <th>rh</th>\n",
       "      <th>Fire</th>\n",
       "      <th>Rain</th>\n",
       "      <th>Rain 10'</th>\n",
       "      <th>Pres</th>\n",
       "    </tr>\n",
       "  </thead>\n",
       "  <tbody>\n",
       "    <tr>\n",
       "      <th>50</th>\n",
       "      <td>2013-01-01 00:00:00</td>\n",
       "      <td>ENE</td>\n",
       "      <td>2.0</td>\n",
       "      <td>6.0</td>\n",
       "      <td>15.9</td>\n",
       "      <td>3.7</td>\n",
       "      <td>15.9</td>\n",
       "      <td>44.0</td>\n",
       "      <td>5.0</td>\n",
       "      <td>0.0</td>\n",
       "      <td>0.0</td>\n",
       "      <td>1014.1</td>\n",
       "    </tr>\n",
       "    <tr>\n",
       "      <th>49</th>\n",
       "      <td>2013-01-01 00:30:00</td>\n",
       "      <td>NaN</td>\n",
       "      <td>0.0</td>\n",
       "      <td>0.0</td>\n",
       "      <td>14.5</td>\n",
       "      <td>4.7</td>\n",
       "      <td>14.5</td>\n",
       "      <td>52.0</td>\n",
       "      <td>3.0</td>\n",
       "      <td>0.0</td>\n",
       "      <td>0.0</td>\n",
       "      <td>1014.0</td>\n",
       "    </tr>\n",
       "    <tr>\n",
       "      <th>48</th>\n",
       "      <td>2013-01-01 01:00:00</td>\n",
       "      <td>NaN</td>\n",
       "      <td>0.0</td>\n",
       "      <td>0.0</td>\n",
       "      <td>12.8</td>\n",
       "      <td>4.6</td>\n",
       "      <td>12.8</td>\n",
       "      <td>57.0</td>\n",
       "      <td>3.0</td>\n",
       "      <td>0.0</td>\n",
       "      <td>0.0</td>\n",
       "      <td>1013.5</td>\n",
       "    </tr>\n",
       "    <tr>\n",
       "      <th>47</th>\n",
       "      <td>2013-01-01 01:30:00</td>\n",
       "      <td>SSW</td>\n",
       "      <td>6.0</td>\n",
       "      <td>9.0</td>\n",
       "      <td>13.3</td>\n",
       "      <td>5.9</td>\n",
       "      <td>13.3</td>\n",
       "      <td>61.0</td>\n",
       "      <td>3.0</td>\n",
       "      <td>0.0</td>\n",
       "      <td>0.0</td>\n",
       "      <td>1013.4</td>\n",
       "    </tr>\n",
       "    <tr>\n",
       "      <th>46</th>\n",
       "      <td>2013-01-01 02:00:00</td>\n",
       "      <td>SW</td>\n",
       "      <td>2.0</td>\n",
       "      <td>7.0</td>\n",
       "      <td>12.5</td>\n",
       "      <td>4.7</td>\n",
       "      <td>12.5</td>\n",
       "      <td>59.0</td>\n",
       "      <td>3.0</td>\n",
       "      <td>0.0</td>\n",
       "      <td>0.0</td>\n",
       "      <td>1013.2</td>\n",
       "    </tr>\n",
       "  </tbody>\n",
       "</table>\n",
       "</div>"
      ],
      "text/plain": [
       "              Datetime Wind dir  Wind spd  Wind gust   Tmp  Dew pt  \\\n",
       "50 2013-01-01 00:00:00      ENE       2.0        6.0  15.9     3.7   \n",
       "49 2013-01-01 00:30:00      NaN       0.0        0.0  14.5     4.7   \n",
       "48 2013-01-01 01:00:00      NaN       0.0        0.0  12.8     4.6   \n",
       "47 2013-01-01 01:30:00      SSW       6.0        9.0  13.3     5.9   \n",
       "46 2013-01-01 02:00:00       SW       2.0        7.0  12.5     4.7   \n",
       "\n",
       "    Feels like    rh  Fire  Rain  Rain 10'    Pres  \n",
       "50        15.9  44.0   5.0   0.0       0.0  1014.1  \n",
       "49        14.5  52.0   3.0   0.0       0.0  1014.0  \n",
       "48        12.8  57.0   3.0   0.0       0.0  1013.5  \n",
       "47        13.3  61.0   3.0   0.0       0.0  1013.4  \n",
       "46        12.5  59.0   3.0   0.0       0.0  1013.2  "
      ]
     },
     "execution_count": 33,
     "metadata": {},
     "output_type": "execute_result"
    }
   ],
   "source": [
    "# Remove duplicated items with the same date and time\n",
    "# no_duplicates = weather_observations.drop_duplicates('Datetime', keep='last')\n",
    "\n",
    "# Sorting is ascending by default, or chronological order\n",
    "sorted_dataframe = no_duplicates.sort_values('Datetime')\n",
    "\n",
    "# Use `Datetime` as our DataFrame index\n",
    "indexed_weather_observations = sorted_dataframe.set_index('Datetime')\n",
    "\n",
    "# Display some entries\n",
    "sorted_dataframe.head()\n",
    "# no_duplicates.head()"
   ]
  },
  {
   "cell_type": "code",
   "execution_count": 10,
   "metadata": {
    "slideshow": {
     "slide_type": "skip"
    }
   },
   "outputs": [],
   "source": [
    "# For consistency\n",
    "no_duplicates = weather_observations.drop_duplicates('Datetime', keep='last')\n",
    "sorted_dataframe = no_duplicates.sort_values('Datetime')\n",
    "indexed_weather_observations = sorted_dataframe.set_index('Datetime')"
   ]
  },
  {
   "cell_type": "markdown",
   "metadata": {
    "slideshow": {
     "slide_type": "slide"
    }
   },
   "source": [
    "# Let wind be numbers"
   ]
  },
  {
   "cell_type": "markdown",
   "metadata": {
    "slideshow": {
     "slide_type": "fragment"
    }
   },
   "source": [
    "To process wind direction, we need them in numbers.\n",
    " * North wind (↓) is 0 degrees, going clockwise ⟳.\n",
    " * East wind (←) is 90 degrees."
   ]
  },
  {
   "cell_type": "markdown",
   "metadata": {
    "slideshow": {
     "slide_type": "fragment"
    }
   },
   "source": [
    "We need to transform each direction label \"N\", \"NNE\", \"NE\", \"ENE\", \"E\", etc., to numbers on the column.\n",
    "\n",
    "`Series.apply()`: Transforms each entry with a function."
   ]
  },
  {
   "cell_type": "markdown",
   "metadata": {
    "slideshow": {
     "slide_type": "slide"
    }
   },
   "source": [
    "# Transforming DataFrames"
   ]
  },
  {
   "cell_type": "code",
   "execution_count": 11,
   "metadata": {
    "slideshow": {
     "slide_type": "fragment"
    }
   },
   "outputs": [],
   "source": [
    "# Translate wind direction to degrees\n",
    "wind_directions = {\n",
    "     'N':   0. , 'NNE':  22.5, 'NE':  45. , 'ENE':  67.5 ,\n",
    "     'E':  90. , 'ESE': 112.5, 'SE': 135. , 'SSE': 157.5 ,\n",
    "     'S': 180. , 'SSW': 202.5, 'SW': 225. , 'WSW': 247.5 ,\n",
    "     'W': 270. , 'WNW': 292.5, 'NW': 315. , 'NNW': 337.5 }"
   ]
  },
  {
   "cell_type": "code",
   "execution_count": 12,
   "metadata": {
    "slideshow": {
     "slide_type": "fragment"
    }
   },
   "outputs": [
    {
     "data": {
      "text/html": [
       "<div>\n",
       "<style scoped>\n",
       "    .dataframe tbody tr th:only-of-type {\n",
       "        vertical-align: middle;\n",
       "    }\n",
       "\n",
       "    .dataframe tbody tr th {\n",
       "        vertical-align: top;\n",
       "    }\n",
       "\n",
       "    .dataframe thead th {\n",
       "        text-align: right;\n",
       "    }\n",
       "</style>\n",
       "<table border=\"1\" class=\"dataframe\">\n",
       "  <thead>\n",
       "    <tr style=\"text-align: right;\">\n",
       "      <th></th>\n",
       "      <th>Wind dir</th>\n",
       "      <th>Wind spd</th>\n",
       "      <th>Wind gust</th>\n",
       "      <th>Tmp</th>\n",
       "      <th>Dew pt</th>\n",
       "      <th>Feels like</th>\n",
       "      <th>rh</th>\n",
       "      <th>Fire</th>\n",
       "      <th>Rain</th>\n",
       "      <th>Rain 10'</th>\n",
       "      <th>Pres</th>\n",
       "    </tr>\n",
       "    <tr>\n",
       "      <th>Datetime</th>\n",
       "      <th></th>\n",
       "      <th></th>\n",
       "      <th></th>\n",
       "      <th></th>\n",
       "      <th></th>\n",
       "      <th></th>\n",
       "      <th></th>\n",
       "      <th></th>\n",
       "      <th></th>\n",
       "      <th></th>\n",
       "      <th></th>\n",
       "    </tr>\n",
       "  </thead>\n",
       "  <tbody>\n",
       "    <tr>\n",
       "      <th>2013-01-01 00:00:00</th>\n",
       "      <td>67.5</td>\n",
       "      <td>2.0</td>\n",
       "      <td>6.0</td>\n",
       "      <td>15.9</td>\n",
       "      <td>3.7</td>\n",
       "      <td>15.9</td>\n",
       "      <td>44.0</td>\n",
       "      <td>5.0</td>\n",
       "      <td>0.0</td>\n",
       "      <td>0.0</td>\n",
       "      <td>1014.1</td>\n",
       "    </tr>\n",
       "    <tr>\n",
       "      <th>2013-01-01 00:30:00</th>\n",
       "      <td>NaN</td>\n",
       "      <td>0.0</td>\n",
       "      <td>0.0</td>\n",
       "      <td>14.5</td>\n",
       "      <td>4.7</td>\n",
       "      <td>14.5</td>\n",
       "      <td>52.0</td>\n",
       "      <td>3.0</td>\n",
       "      <td>0.0</td>\n",
       "      <td>0.0</td>\n",
       "      <td>1014.0</td>\n",
       "    </tr>\n",
       "    <tr>\n",
       "      <th>2013-01-01 01:00:00</th>\n",
       "      <td>NaN</td>\n",
       "      <td>0.0</td>\n",
       "      <td>0.0</td>\n",
       "      <td>12.8</td>\n",
       "      <td>4.6</td>\n",
       "      <td>12.8</td>\n",
       "      <td>57.0</td>\n",
       "      <td>3.0</td>\n",
       "      <td>0.0</td>\n",
       "      <td>0.0</td>\n",
       "      <td>1013.5</td>\n",
       "    </tr>\n",
       "    <tr>\n",
       "      <th>2013-01-01 01:30:00</th>\n",
       "      <td>202.5</td>\n",
       "      <td>6.0</td>\n",
       "      <td>9.0</td>\n",
       "      <td>13.3</td>\n",
       "      <td>5.9</td>\n",
       "      <td>13.3</td>\n",
       "      <td>61.0</td>\n",
       "      <td>3.0</td>\n",
       "      <td>0.0</td>\n",
       "      <td>0.0</td>\n",
       "      <td>1013.4</td>\n",
       "    </tr>\n",
       "    <tr>\n",
       "      <th>2013-01-01 02:00:00</th>\n",
       "      <td>225.0</td>\n",
       "      <td>2.0</td>\n",
       "      <td>7.0</td>\n",
       "      <td>12.5</td>\n",
       "      <td>4.7</td>\n",
       "      <td>12.5</td>\n",
       "      <td>59.0</td>\n",
       "      <td>3.0</td>\n",
       "      <td>0.0</td>\n",
       "      <td>0.0</td>\n",
       "      <td>1013.2</td>\n",
       "    </tr>\n",
       "  </tbody>\n",
       "</table>\n",
       "</div>"
      ],
      "text/plain": [
       "                     Wind dir  Wind spd  Wind gust   Tmp  Dew pt  Feels like  \\\n",
       "Datetime                                                                       \n",
       "2013-01-01 00:00:00      67.5       2.0        6.0  15.9     3.7        15.9   \n",
       "2013-01-01 00:30:00       NaN       0.0        0.0  14.5     4.7        14.5   \n",
       "2013-01-01 01:00:00       NaN       0.0        0.0  12.8     4.6        12.8   \n",
       "2013-01-01 01:30:00     202.5       6.0        9.0  13.3     5.9        13.3   \n",
       "2013-01-01 02:00:00     225.0       2.0        7.0  12.5     4.7        12.5   \n",
       "\n",
       "                       rh  Fire  Rain  Rain 10'    Pres  \n",
       "Datetime                                                 \n",
       "2013-01-01 00:00:00  44.0   5.0   0.0       0.0  1014.1  \n",
       "2013-01-01 00:30:00  52.0   3.0   0.0       0.0  1014.0  \n",
       "2013-01-01 01:00:00  57.0   3.0   0.0       0.0  1013.5  \n",
       "2013-01-01 01:30:00  61.0   3.0   0.0       0.0  1013.4  \n",
       "2013-01-01 02:00:00  59.0   3.0   0.0       0.0  1013.2  "
      ]
     },
     "execution_count": 12,
     "metadata": {},
     "output_type": "execute_result"
    }
   ],
   "source": [
    "# Replace wind directions column with a new number column\n",
    "# `get()` accesses values safely from dictionary\n",
    "indexed_weather_observations['Wind dir'] = \\\n",
    "    indexed_weather_observations['Wind dir'].apply(wind_directions.get)\n",
    "    \n",
    "# Display some entries\n",
    "indexed_weather_observations.head()"
   ]
  },
  {
   "cell_type": "markdown",
   "metadata": {
    "slideshow": {
     "slide_type": "slide"
    }
   },
   "source": [
    "# Irregular data frequency"
   ]
  },
  {
   "cell_type": "markdown",
   "metadata": {
    "slideshow": {
     "slide_type": "fragment"
    }
   },
   "source": [
    "Our data has odd timestamps from time to time, For example:"
   ]
  },
  {
   "cell_type": "code",
   "execution_count": 13,
   "metadata": {
    "slideshow": {
     "slide_type": "fragment"
    }
   },
   "outputs": [
    {
     "data": {
      "text/html": [
       "<div>\n",
       "<style scoped>\n",
       "    .dataframe tbody tr th:only-of-type {\n",
       "        vertical-align: middle;\n",
       "    }\n",
       "\n",
       "    .dataframe tbody tr th {\n",
       "        vertical-align: top;\n",
       "    }\n",
       "\n",
       "    .dataframe thead th {\n",
       "        text-align: right;\n",
       "    }\n",
       "</style>\n",
       "<table border=\"1\" class=\"dataframe\">\n",
       "  <thead>\n",
       "    <tr style=\"text-align: right;\">\n",
       "      <th></th>\n",
       "      <th>Wind dir</th>\n",
       "      <th>Wind spd</th>\n",
       "      <th>Wind gust</th>\n",
       "      <th>Tmp</th>\n",
       "      <th>Dew pt</th>\n",
       "      <th>Feels like</th>\n",
       "      <th>rh</th>\n",
       "      <th>Fire</th>\n",
       "      <th>Rain</th>\n",
       "      <th>Rain 10'</th>\n",
       "      <th>Pres</th>\n",
       "    </tr>\n",
       "    <tr>\n",
       "      <th>Datetime</th>\n",
       "      <th></th>\n",
       "      <th></th>\n",
       "      <th></th>\n",
       "      <th></th>\n",
       "      <th></th>\n",
       "      <th></th>\n",
       "      <th></th>\n",
       "      <th></th>\n",
       "      <th></th>\n",
       "      <th></th>\n",
       "      <th></th>\n",
       "    </tr>\n",
       "  </thead>\n",
       "  <tbody>\n",
       "    <tr>\n",
       "      <th>2013-02-04 00:30:00</th>\n",
       "      <td>67.5</td>\n",
       "      <td>9.0</td>\n",
       "      <td>15.0</td>\n",
       "      <td>15.1</td>\n",
       "      <td>12.6</td>\n",
       "      <td>15.1</td>\n",
       "      <td>85.0</td>\n",
       "      <td>1.0</td>\n",
       "      <td>0.0</td>\n",
       "      <td>0.0</td>\n",
       "      <td>1020.2</td>\n",
       "    </tr>\n",
       "    <tr>\n",
       "      <th>2013-02-04 00:33:00</th>\n",
       "      <td>67.5</td>\n",
       "      <td>7.0</td>\n",
       "      <td>11.0</td>\n",
       "      <td>15.0</td>\n",
       "      <td>12.7</td>\n",
       "      <td>15.0</td>\n",
       "      <td>86.0</td>\n",
       "      <td>1.0</td>\n",
       "      <td>0.0</td>\n",
       "      <td>0.0</td>\n",
       "      <td>1020.2</td>\n",
       "    </tr>\n",
       "    <tr>\n",
       "      <th>2013-02-04 01:00:00</th>\n",
       "      <td>67.5</td>\n",
       "      <td>6.0</td>\n",
       "      <td>9.0</td>\n",
       "      <td>14.9</td>\n",
       "      <td>12.8</td>\n",
       "      <td>14.9</td>\n",
       "      <td>87.0</td>\n",
       "      <td>1.0</td>\n",
       "      <td>0.0</td>\n",
       "      <td>0.0</td>\n",
       "      <td>1020.2</td>\n",
       "    </tr>\n",
       "    <tr>\n",
       "      <th>2013-02-04 01:11:00</th>\n",
       "      <td>45.0</td>\n",
       "      <td>4.0</td>\n",
       "      <td>7.0</td>\n",
       "      <td>15.0</td>\n",
       "      <td>12.9</td>\n",
       "      <td>15.0</td>\n",
       "      <td>87.0</td>\n",
       "      <td>1.0</td>\n",
       "      <td>0.0</td>\n",
       "      <td>0.0</td>\n",
       "      <td>1020.1</td>\n",
       "    </tr>\n",
       "    <tr>\n",
       "      <th>2013-02-04 01:30:00</th>\n",
       "      <td>67.5</td>\n",
       "      <td>6.0</td>\n",
       "      <td>7.0</td>\n",
       "      <td>15.4</td>\n",
       "      <td>12.9</td>\n",
       "      <td>15.4</td>\n",
       "      <td>85.0</td>\n",
       "      <td>1.0</td>\n",
       "      <td>0.0</td>\n",
       "      <td>0.0</td>\n",
       "      <td>1020.0</td>\n",
       "    </tr>\n",
       "    <tr>\n",
       "      <th>2013-02-04 02:00:00</th>\n",
       "      <td>NaN</td>\n",
       "      <td>0.0</td>\n",
       "      <td>0.0</td>\n",
       "      <td>14.7</td>\n",
       "      <td>13.1</td>\n",
       "      <td>14.7</td>\n",
       "      <td>90.0</td>\n",
       "      <td>1.0</td>\n",
       "      <td>0.0</td>\n",
       "      <td>0.0</td>\n",
       "      <td>1019.9</td>\n",
       "    </tr>\n",
       "  </tbody>\n",
       "</table>\n",
       "</div>"
      ],
      "text/plain": [
       "                     Wind dir  Wind spd  Wind gust   Tmp  Dew pt  Feels like  \\\n",
       "Datetime                                                                       \n",
       "2013-02-04 00:30:00      67.5       9.0       15.0  15.1    12.6        15.1   \n",
       "2013-02-04 00:33:00      67.5       7.0       11.0  15.0    12.7        15.0   \n",
       "2013-02-04 01:00:00      67.5       6.0        9.0  14.9    12.8        14.9   \n",
       "2013-02-04 01:11:00      45.0       4.0        7.0  15.0    12.9        15.0   \n",
       "2013-02-04 01:30:00      67.5       6.0        7.0  15.4    12.9        15.4   \n",
       "2013-02-04 02:00:00       NaN       0.0        0.0  14.7    13.1        14.7   \n",
       "\n",
       "                       rh  Fire  Rain  Rain 10'    Pres  \n",
       "Datetime                                                 \n",
       "2013-02-04 00:30:00  85.0   1.0   0.0       0.0  1020.2  \n",
       "2013-02-04 00:33:00  86.0   1.0   0.0       0.0  1020.2  \n",
       "2013-02-04 01:00:00  87.0   1.0   0.0       0.0  1020.2  \n",
       "2013-02-04 01:11:00  87.0   1.0   0.0       0.0  1020.1  \n",
       "2013-02-04 01:30:00  85.0   1.0   0.0       0.0  1020.0  \n",
       "2013-02-04 02:00:00  90.0   1.0   0.0       0.0  1019.9  "
      ]
     },
     "execution_count": 13,
     "metadata": {},
     "output_type": "execute_result"
    }
   ],
   "source": [
    "# One section where the data has weird timestamps ...\n",
    "indexed_weather_observations[1800:1806]"
   ]
  },
  {
   "cell_type": "markdown",
   "metadata": {
    "slideshow": {
     "slide_type": "fragment"
    }
   },
   "source": [
    "We can solve this. [`DataFrame.asfreq()`](http://pandas.pydata.org/pandas-docs/stable/generated/pandas.DataFrame.asfreq.html?highlight=asfreq#pandas.DataFrame.asfreq) forces a specific frequency on the index, discarding and filling the rest."
   ]
  },
  {
   "cell_type": "markdown",
   "metadata": {
    "slideshow": {
     "slide_type": "slide"
    }
   },
   "source": [
    "# Setting data frequency"
   ]
  },
  {
   "cell_type": "markdown",
   "metadata": {},
   "source": [
    "Let's set each data point to be every 30 minutes."
   ]
  },
  {
   "cell_type": "code",
   "execution_count": 14,
   "metadata": {
    "slideshow": {
     "slide_type": "fragment"
    }
   },
   "outputs": [
    {
     "data": {
      "text/html": [
       "<div>\n",
       "<style scoped>\n",
       "    .dataframe tbody tr th:only-of-type {\n",
       "        vertical-align: middle;\n",
       "    }\n",
       "\n",
       "    .dataframe tbody tr th {\n",
       "        vertical-align: top;\n",
       "    }\n",
       "\n",
       "    .dataframe thead th {\n",
       "        text-align: right;\n",
       "    }\n",
       "</style>\n",
       "<table border=\"1\" class=\"dataframe\">\n",
       "  <thead>\n",
       "    <tr style=\"text-align: right;\">\n",
       "      <th></th>\n",
       "      <th>Wind dir</th>\n",
       "      <th>Wind spd</th>\n",
       "      <th>Wind gust</th>\n",
       "      <th>Tmp</th>\n",
       "      <th>Dew pt</th>\n",
       "      <th>Feels like</th>\n",
       "      <th>rh</th>\n",
       "      <th>Fire</th>\n",
       "      <th>Rain</th>\n",
       "      <th>Rain 10'</th>\n",
       "      <th>Pres</th>\n",
       "    </tr>\n",
       "    <tr>\n",
       "      <th>Datetime</th>\n",
       "      <th></th>\n",
       "      <th></th>\n",
       "      <th></th>\n",
       "      <th></th>\n",
       "      <th></th>\n",
       "      <th></th>\n",
       "      <th></th>\n",
       "      <th></th>\n",
       "      <th></th>\n",
       "      <th></th>\n",
       "      <th></th>\n",
       "    </tr>\n",
       "  </thead>\n",
       "  <tbody>\n",
       "    <tr>\n",
       "      <th>2013-02-04 00:30:00</th>\n",
       "      <td>67.5</td>\n",
       "      <td>9.0</td>\n",
       "      <td>15.0</td>\n",
       "      <td>15.1</td>\n",
       "      <td>12.6</td>\n",
       "      <td>15.1</td>\n",
       "      <td>85.0</td>\n",
       "      <td>1.0</td>\n",
       "      <td>0.0</td>\n",
       "      <td>0.0</td>\n",
       "      <td>1020.2</td>\n",
       "    </tr>\n",
       "    <tr>\n",
       "      <th>2013-02-04 01:00:00</th>\n",
       "      <td>67.5</td>\n",
       "      <td>6.0</td>\n",
       "      <td>9.0</td>\n",
       "      <td>14.9</td>\n",
       "      <td>12.8</td>\n",
       "      <td>14.9</td>\n",
       "      <td>87.0</td>\n",
       "      <td>1.0</td>\n",
       "      <td>0.0</td>\n",
       "      <td>0.0</td>\n",
       "      <td>1020.2</td>\n",
       "    </tr>\n",
       "    <tr>\n",
       "      <th>2013-02-04 01:30:00</th>\n",
       "      <td>67.5</td>\n",
       "      <td>6.0</td>\n",
       "      <td>7.0</td>\n",
       "      <td>15.4</td>\n",
       "      <td>12.9</td>\n",
       "      <td>15.4</td>\n",
       "      <td>85.0</td>\n",
       "      <td>1.0</td>\n",
       "      <td>0.0</td>\n",
       "      <td>0.0</td>\n",
       "      <td>1020.0</td>\n",
       "    </tr>\n",
       "    <tr>\n",
       "      <th>2013-02-04 02:00:00</th>\n",
       "      <td>NaN</td>\n",
       "      <td>0.0</td>\n",
       "      <td>0.0</td>\n",
       "      <td>14.7</td>\n",
       "      <td>13.1</td>\n",
       "      <td>14.7</td>\n",
       "      <td>90.0</td>\n",
       "      <td>1.0</td>\n",
       "      <td>0.0</td>\n",
       "      <td>0.0</td>\n",
       "      <td>1019.9</td>\n",
       "    </tr>\n",
       "    <tr>\n",
       "      <th>2013-02-04 02:30:00</th>\n",
       "      <td>NaN</td>\n",
       "      <td>0.0</td>\n",
       "      <td>0.0</td>\n",
       "      <td>14.6</td>\n",
       "      <td>13.0</td>\n",
       "      <td>14.6</td>\n",
       "      <td>90.0</td>\n",
       "      <td>1.0</td>\n",
       "      <td>0.0</td>\n",
       "      <td>0.0</td>\n",
       "      <td>1019.9</td>\n",
       "    </tr>\n",
       "  </tbody>\n",
       "</table>\n",
       "</div>"
      ],
      "text/plain": [
       "                     Wind dir  Wind spd  Wind gust   Tmp  Dew pt  Feels like  \\\n",
       "Datetime                                                                       \n",
       "2013-02-04 00:30:00      67.5       9.0       15.0  15.1    12.6        15.1   \n",
       "2013-02-04 01:00:00      67.5       6.0        9.0  14.9    12.8        14.9   \n",
       "2013-02-04 01:30:00      67.5       6.0        7.0  15.4    12.9        15.4   \n",
       "2013-02-04 02:00:00       NaN       0.0        0.0  14.7    13.1        14.7   \n",
       "2013-02-04 02:30:00       NaN       0.0        0.0  14.6    13.0        14.6   \n",
       "\n",
       "                       rh  Fire  Rain  Rain 10'    Pres  \n",
       "Datetime                                                 \n",
       "2013-02-04 00:30:00  85.0   1.0   0.0       0.0  1020.2  \n",
       "2013-02-04 01:00:00  87.0   1.0   0.0       0.0  1020.2  \n",
       "2013-02-04 01:30:00  85.0   1.0   0.0       0.0  1020.0  \n",
       "2013-02-04 02:00:00  90.0   1.0   0.0       0.0  1019.9  \n",
       "2013-02-04 02:30:00  90.0   1.0   0.0       0.0  1019.9  "
      ]
     },
     "execution_count": 14,
     "metadata": {},
     "output_type": "execute_result"
    }
   ],
   "source": [
    "# Force the index to be every 30 minutes\n",
    "regular_observations = indexed_weather_observations.asfreq('30min')\n",
    "    \n",
    "# Same section at different indices since setting its frequency :)\n",
    "regular_observations[1633:1638]"
   ]
  },
  {
   "cell_type": "markdown",
   "metadata": {
    "slideshow": {
     "slide_type": "slide"
    }
   },
   "source": [
    "# Plotting some data for a better picture"
   ]
  },
  {
   "cell_type": "code",
   "execution_count": 15,
   "metadata": {
    "scrolled": true,
    "slideshow": {
     "slide_type": "fragment"
    }
   },
   "outputs": [
    {
     "data": {
      "text/plain": [
       "<AxesSubplot:xlabel='Datetime'>"
      ]
     },
     "execution_count": 15,
     "metadata": {},
     "output_type": "execute_result"
    },
    {
     "data": {
      "image/png": "[encoded data removed]",
      "text/plain": [
       "<Figure size 1296x360 with 1 Axes>"
      ]
     },
     "metadata": {},
     "output_type": "display_data"
    }
   ],
   "source": [
    "# Plot the first 500 entries with selected columns\n",
    "regular_observations[['Wind spd', 'Wind gust', 'Tmp', 'Feels like']][:500].plot()"
   ]
  },
  {
   "cell_type": "markdown",
   "metadata": {
    "slideshow": {
     "slide_type": "fragment"
    }
   },
   "source": [
    "There seems to be gaps in our dataset between 4th Jan and 9th Jan."
   ]
  },
  {
   "cell_type": "markdown",
   "metadata": {
    "slideshow": {
     "slide_type": "slide"
    }
   },
   "source": [
    "# Gaps in the data"
   ]
  },
  {
   "cell_type": "markdown",
   "metadata": {
    "slideshow": {
     "slide_type": "fragment"
    }
   },
   "source": [
    "Weather sensors sometimes drop out. "
   ]
  },
  {
   "cell_type": "markdown",
   "metadata": {
    "slideshow": {
     "slide_type": "fragment"
    }
   },
   "source": [
    "But for modelling purposes, we need a gap-free dataset."
   ]
  },
  {
   "cell_type": "markdown",
   "metadata": {
    "slideshow": {
     "slide_type": "fragment"
    }
   },
   "source": [
    "`Series.interpolate()`: Fill in empty values based on index. "
   ]
  },
  {
   "cell_type": "markdown",
   "metadata": {
    "slideshow": {
     "slide_type": "slide"
    }
   },
   "source": [
    "# Interpolate and fill empty rows"
   ]
  },
  {
   "cell_type": "code",
   "execution_count": 16,
   "metadata": {
    "slideshow": {
     "slide_type": "fragment"
    }
   },
   "outputs": [
    {
     "data": {
      "text/html": [
       "<div>\n",
       "<style scoped>\n",
       "    .dataframe tbody tr th:only-of-type {\n",
       "        vertical-align: middle;\n",
       "    }\n",
       "\n",
       "    .dataframe tbody tr th {\n",
       "        vertical-align: top;\n",
       "    }\n",
       "\n",
       "    .dataframe thead th {\n",
       "        text-align: right;\n",
       "    }\n",
       "</style>\n",
       "<table border=\"1\" class=\"dataframe\">\n",
       "  <thead>\n",
       "    <tr style=\"text-align: right;\">\n",
       "      <th></th>\n",
       "      <th>Wind dir</th>\n",
       "      <th>Wind spd</th>\n",
       "      <th>Wind gust</th>\n",
       "      <th>Tmp</th>\n",
       "      <th>Dew pt</th>\n",
       "      <th>Feels like</th>\n",
       "      <th>rh</th>\n",
       "      <th>Fire</th>\n",
       "      <th>Rain</th>\n",
       "      <th>Rain 10'</th>\n",
       "      <th>Pres</th>\n",
       "    </tr>\n",
       "    <tr>\n",
       "      <th>Datetime</th>\n",
       "      <th></th>\n",
       "      <th></th>\n",
       "      <th></th>\n",
       "      <th></th>\n",
       "      <th></th>\n",
       "      <th></th>\n",
       "      <th></th>\n",
       "      <th></th>\n",
       "      <th></th>\n",
       "      <th></th>\n",
       "      <th></th>\n",
       "    </tr>\n",
       "  </thead>\n",
       "  <tbody>\n",
       "    <tr>\n",
       "      <th>2013-02-04 00:30:00</th>\n",
       "      <td>67.5</td>\n",
       "      <td>9.0</td>\n",
       "      <td>15.0</td>\n",
       "      <td>15.1</td>\n",
       "      <td>12.6</td>\n",
       "      <td>15.1</td>\n",
       "      <td>85.0</td>\n",
       "      <td>1.0</td>\n",
       "      <td>0.0</td>\n",
       "      <td>0.0</td>\n",
       "      <td>1020.2</td>\n",
       "    </tr>\n",
       "    <tr>\n",
       "      <th>2013-02-04 01:00:00</th>\n",
       "      <td>67.5</td>\n",
       "      <td>6.0</td>\n",
       "      <td>9.0</td>\n",
       "      <td>14.9</td>\n",
       "      <td>12.8</td>\n",
       "      <td>14.9</td>\n",
       "      <td>87.0</td>\n",
       "      <td>1.0</td>\n",
       "      <td>0.0</td>\n",
       "      <td>0.0</td>\n",
       "      <td>1020.2</td>\n",
       "    </tr>\n",
       "    <tr>\n",
       "      <th>2013-02-04 01:30:00</th>\n",
       "      <td>67.5</td>\n",
       "      <td>6.0</td>\n",
       "      <td>7.0</td>\n",
       "      <td>15.4</td>\n",
       "      <td>12.9</td>\n",
       "      <td>15.4</td>\n",
       "      <td>85.0</td>\n",
       "      <td>1.0</td>\n",
       "      <td>0.0</td>\n",
       "      <td>0.0</td>\n",
       "      <td>1020.0</td>\n",
       "    </tr>\n",
       "    <tr>\n",
       "      <th>2013-02-04 02:00:00</th>\n",
       "      <td>67.5</td>\n",
       "      <td>0.0</td>\n",
       "      <td>0.0</td>\n",
       "      <td>14.7</td>\n",
       "      <td>13.1</td>\n",
       "      <td>14.7</td>\n",
       "      <td>90.0</td>\n",
       "      <td>1.0</td>\n",
       "      <td>0.0</td>\n",
       "      <td>0.0</td>\n",
       "      <td>1019.9</td>\n",
       "    </tr>\n",
       "    <tr>\n",
       "      <th>2013-02-04 02:30:00</th>\n",
       "      <td>67.5</td>\n",
       "      <td>0.0</td>\n",
       "      <td>0.0</td>\n",
       "      <td>14.6</td>\n",
       "      <td>13.0</td>\n",
       "      <td>14.6</td>\n",
       "      <td>90.0</td>\n",
       "      <td>1.0</td>\n",
       "      <td>0.0</td>\n",
       "      <td>0.0</td>\n",
       "      <td>1019.9</td>\n",
       "    </tr>\n",
       "  </tbody>\n",
       "</table>\n",
       "</div>"
      ],
      "text/plain": [
       "                     Wind dir  Wind spd  Wind gust   Tmp  Dew pt  Feels like  \\\n",
       "Datetime                                                                       \n",
       "2013-02-04 00:30:00      67.5       9.0       15.0  15.1    12.6        15.1   \n",
       "2013-02-04 01:00:00      67.5       6.0        9.0  14.9    12.8        14.9   \n",
       "2013-02-04 01:30:00      67.5       6.0        7.0  15.4    12.9        15.4   \n",
       "2013-02-04 02:00:00      67.5       0.0        0.0  14.7    13.1        14.7   \n",
       "2013-02-04 02:30:00      67.5       0.0        0.0  14.6    13.0        14.6   \n",
       "\n",
       "                       rh  Fire  Rain  Rain 10'    Pres  \n",
       "Datetime                                                 \n",
       "2013-02-04 00:30:00  85.0   1.0   0.0       0.0  1020.2  \n",
       "2013-02-04 01:00:00  87.0   1.0   0.0       0.0  1020.2  \n",
       "2013-02-04 01:30:00  85.0   1.0   0.0       0.0  1020.0  \n",
       "2013-02-04 02:00:00  90.0   1.0   0.0       0.0  1019.9  \n",
       "2013-02-04 02:30:00  90.0   1.0   0.0       0.0  1019.9  "
      ]
     },
     "execution_count": 16,
     "metadata": {},
     "output_type": "execute_result"
    }
   ],
   "source": [
    "# Interpolate data to fill empty values\n",
    "for column in regular_observations.columns:\n",
    "    regular_observations[column].interpolate('time', inplace=True)\n",
    "\n",
    "# Display some interpolated entries    \n",
    "regular_observations[1633:1638]"
   ]
  },
  {
   "cell_type": "markdown",
   "metadata": {
    "slideshow": {
     "slide_type": "slide"
    }
   },
   "source": [
    "# Plotting to be sure!"
   ]
  },
  {
   "cell_type": "code",
   "execution_count": 17,
   "metadata": {
    "slideshow": {
     "slide_type": "fragment"
    }
   },
   "outputs": [
    {
     "data": {
      "text/plain": [
       "<AxesSubplot:xlabel='Datetime'>"
      ]
     },
     "execution_count": 17,
     "metadata": {},
     "output_type": "execute_result"
    },
    {
     "data": {
      "image/png": "[encoded data removed]",
      "text/plain": [
       "<Figure size 1296x360 with 1 Axes>"
      ]
     },
     "metadata": {},
     "output_type": "display_data"
    }
   ],
   "source": [
    "# Plot it again - gap free!\n",
    "regular_observations[['Wind spd', 'Wind gust', 'Tmp', 'Feels like']][:500].plot()"
   ]
  },
  {
   "cell_type": "markdown",
   "metadata": {
    "slideshow": {
     "slide_type": "fragment"
    }
   },
   "source": [
    "Now the dataset is ready to be used for modelling! 🎉"
   ]
  },
  {
   "cell_type": "markdown",
   "metadata": {
    "slideshow": {
     "slide_type": "slide"
    }
   },
   "source": [
    "# You too can keep our water healthy 🐹 "
   ]
  },
  {
   "cell_type": "markdown",
   "metadata": {
    "slideshow": {
     "slide_type": "fragment"
    }
   },
   "source": [
    "Today you learned how to use `pandas` to in many ways:"
   ]
  },
  {
   "cell_type": "markdown",
   "metadata": {
    "slideshow": {
     "slide_type": "fragment"
    }
   },
   "source": [
    " * Reading a CSV file with proper structures\n",
    " * Sorting your dataset\n",
    " * Transforming columns by applying a function\n",
    " * Regulate data frequency from odd ones\n",
    " * Interpolate and fill missing data\n",
    " * Plotting your dataset"
   ]
  },
  {
   "cell_type": "markdown",
   "metadata": {
    "slideshow": {
     "slide_type": "fragment"
    }
   },
   "source": [
    "`pandas` is much more powerful than what we covered today. [Check out the documentation](http://pandas.pydata.org/pandas-docs/stable/index.html)! You might find some gems."
   ]
  },
  {
   "cell_type": "markdown",
   "metadata": {
    "slideshow": {
     "slide_type": "slide"
    }
   },
   "source": [
    "### Messy Sensor Data: A Programmer's Cleaning Guide\n",
    "\n",
    "Slides available at [github.com/Spaxe/pyconau2017-messy-sensor-data](https://github.com/Spaxe/pyconau2017-messy-sensor-data)\n",
    "\n",
    "There is a bonus section on combining two DataFrames with different frequencies in the notebook.\n",
    "\n",
    "🐹 Let's be friends on Twitter: [@Xavier_Ho](https://twitter.com/Xavier_Ho)"
   ]
  },
  {
   "cell_type": "code",
   "execution_count": 18,
   "metadata": {
    "slideshow": {
     "slide_type": "skip"
    }
   },
   "outputs": [
    {
     "name": "stderr",
     "output_type": "stream",
     "text": [
      "c:\\users\\conta\\appdata\\local\\programs\\python\\python38\\lib\\site-packages\\dateutil\\parser\\_parser.py:1213: UnknownTimezoneWarning: tzname EDT identified but not understood.  Pass `tzinfos` argument in order to correctly return a timezone-aware datetime.  In a future version, this will raise an exception.\n",
      "  warnings.warn(\"tzname {tzname} identified but not understood.  \"\n",
      "c:\\users\\conta\\appdata\\local\\programs\\python\\python38\\lib\\site-packages\\dateutil\\parser\\_parser.py:1213: UnknownTimezoneWarning: tzname EST identified but not understood.  Pass `tzinfos` argument in order to correctly return a timezone-aware datetime.  In a future version, this will raise an exception.\n",
      "  warnings.warn(\"tzname {tzname} identified but not understood.  \"\n"
     ]
    },
    {
     "data": {
      "text/html": [
       "<div>\n",
       "<style scoped>\n",
       "    .dataframe tbody tr th:only-of-type {\n",
       "        vertical-align: middle;\n",
       "    }\n",
       "\n",
       "    .dataframe tbody tr th {\n",
       "        vertical-align: top;\n",
       "    }\n",
       "\n",
       "    .dataframe thead th {\n",
       "        text-align: right;\n",
       "    }\n",
       "</style>\n",
       "<table border=\"1\" class=\"dataframe\">\n",
       "  <thead>\n",
       "    <tr style=\"text-align: right;\">\n",
       "      <th></th>\n",
       "      <th>Datetime</th>\n",
       "      <th>Vis</th>\n",
       "      <th>Cloud</th>\n",
       "      <th>Current weather</th>\n",
       "      <th>Past weather</th>\n",
       "      <th>?</th>\n",
       "    </tr>\n",
       "  </thead>\n",
       "  <tbody>\n",
       "    <tr>\n",
       "      <th>0</th>\n",
       "      <td>2013-01-01 00:00:00</td>\n",
       "      <td>NaN</td>\n",
       "      <td>NaN</td>\n",
       "      <td>NaN</td>\n",
       "      <td>NaN</td>\n",
       "      <td>NaN</td>\n",
       "    </tr>\n",
       "    <tr>\n",
       "      <th>1</th>\n",
       "      <td>2013-01-01 23:00:00</td>\n",
       "      <td>NaN</td>\n",
       "      <td>NaN</td>\n",
       "      <td>NaN</td>\n",
       "      <td>NaN</td>\n",
       "      <td>NaN</td>\n",
       "    </tr>\n",
       "    <tr>\n",
       "      <th>2</th>\n",
       "      <td>2013-01-01 21:00:00</td>\n",
       "      <td>NaN</td>\n",
       "      <td>NaN</td>\n",
       "      <td>NaN</td>\n",
       "      <td>NaN</td>\n",
       "      <td>NaN</td>\n",
       "    </tr>\n",
       "    <tr>\n",
       "      <th>3</th>\n",
       "      <td>2013-01-01 20:00:00</td>\n",
       "      <td>NaN</td>\n",
       "      <td>NaN</td>\n",
       "      <td>NaN</td>\n",
       "      <td>NaN</td>\n",
       "      <td>NaN</td>\n",
       "    </tr>\n",
       "    <tr>\n",
       "      <th>4</th>\n",
       "      <td>2013-01-01 18:00:00</td>\n",
       "      <td>NaN</td>\n",
       "      <td>NaN</td>\n",
       "      <td>NaN</td>\n",
       "      <td>NaN</td>\n",
       "      <td>NaN</td>\n",
       "    </tr>\n",
       "  </tbody>\n",
       "</table>\n",
       "</div>"
      ],
      "text/plain": [
       "             Datetime  Vis Cloud  Current weather  Past weather   ?\n",
       "0 2013-01-01 00:00:00  NaN   NaN              NaN           NaN NaN\n",
       "1 2013-01-01 23:00:00  NaN   NaN              NaN           NaN NaN\n",
       "2 2013-01-01 21:00:00  NaN   NaN              NaN           NaN NaN\n",
       "3 2013-01-01 20:00:00  NaN   NaN              NaN           NaN NaN\n",
       "4 2013-01-01 18:00:00  NaN   NaN              NaN           NaN NaN"
      ]
     },
     "execution_count": 18,
     "metadata": {},
     "output_type": "execute_result"
    }
   ],
   "source": [
    "# BONUS SECTION\n",
    "# Similarly, for sky observations\n",
    "sky_observations = pd.read_csv('observations/Canberra_sky.csv',\n",
    "                                   sep='\\t',\n",
    "                                   parse_dates={'Datetime': ['Date', 'Time']},\n",
    "                                   dayfirst=True,\n",
    "                                   infer_datetime_format=True,\n",
    "                                   na_values=['-', 'obscured'])\n",
    "sky_observations.head()"
   ]
  },
  {
   "cell_type": "code",
   "execution_count": 19,
   "metadata": {
    "slideshow": {
     "slide_type": "skip"
    }
   },
   "outputs": [
    {
     "data": {
      "text/html": [
       "<div>\n",
       "<style scoped>\n",
       "    .dataframe tbody tr th:only-of-type {\n",
       "        vertical-align: middle;\n",
       "    }\n",
       "\n",
       "    .dataframe tbody tr th {\n",
       "        vertical-align: top;\n",
       "    }\n",
       "\n",
       "    .dataframe thead th {\n",
       "        text-align: right;\n",
       "    }\n",
       "</style>\n",
       "<table border=\"1\" class=\"dataframe\">\n",
       "  <thead>\n",
       "    <tr style=\"text-align: right;\">\n",
       "      <th></th>\n",
       "      <th>Vis</th>\n",
       "      <th>Cloud</th>\n",
       "      <th>Current weather</th>\n",
       "      <th>Past weather</th>\n",
       "      <th>?</th>\n",
       "    </tr>\n",
       "    <tr>\n",
       "      <th>Datetime</th>\n",
       "      <th></th>\n",
       "      <th></th>\n",
       "      <th></th>\n",
       "      <th></th>\n",
       "      <th></th>\n",
       "    </tr>\n",
       "  </thead>\n",
       "  <tbody>\n",
       "    <tr>\n",
       "      <th>2013-01-01 00:00:00</th>\n",
       "      <td>NaN</td>\n",
       "      <td>NaN</td>\n",
       "      <td>NaN</td>\n",
       "      <td>NaN</td>\n",
       "      <td>NaN</td>\n",
       "    </tr>\n",
       "    <tr>\n",
       "      <th>2013-01-01 02:00:00</th>\n",
       "      <td>NaN</td>\n",
       "      <td>NaN</td>\n",
       "      <td>NaN</td>\n",
       "      <td>NaN</td>\n",
       "      <td>NaN</td>\n",
       "    </tr>\n",
       "    <tr>\n",
       "      <th>2013-01-01 03:00:00</th>\n",
       "      <td>NaN</td>\n",
       "      <td>NaN</td>\n",
       "      <td>NaN</td>\n",
       "      <td>NaN</td>\n",
       "      <td>NaN</td>\n",
       "    </tr>\n",
       "    <tr>\n",
       "      <th>2013-01-01 05:00:00</th>\n",
       "      <td>NaN</td>\n",
       "      <td>NaN</td>\n",
       "      <td>NaN</td>\n",
       "      <td>NaN</td>\n",
       "      <td>NaN</td>\n",
       "    </tr>\n",
       "    <tr>\n",
       "      <th>2013-01-01 06:00:00</th>\n",
       "      <td>NaN</td>\n",
       "      <td>NaN</td>\n",
       "      <td>NaN</td>\n",
       "      <td>NaN</td>\n",
       "      <td>NaN</td>\n",
       "    </tr>\n",
       "  </tbody>\n",
       "</table>\n",
       "</div>"
      ],
      "text/plain": [
       "                     Vis Cloud  Current weather  Past weather   ?\n",
       "Datetime                                                         \n",
       "2013-01-01 00:00:00  NaN   NaN              NaN           NaN NaN\n",
       "2013-01-01 02:00:00  NaN   NaN              NaN           NaN NaN\n",
       "2013-01-01 03:00:00  NaN   NaN              NaN           NaN NaN\n",
       "2013-01-01 05:00:00  NaN   NaN              NaN           NaN NaN\n",
       "2013-01-01 06:00:00  NaN   NaN              NaN           NaN NaN"
      ]
     },
     "execution_count": 19,
     "metadata": {},
     "output_type": "execute_result"
    }
   ],
   "source": [
    "# As before, remove duplicates and set index to datetime.\n",
    "sky_observations.drop_duplicates('Datetime', keep='last', inplace=True)\n",
    "sky_observations.sort_values('Datetime', inplace=True)\n",
    "sky_observations.set_index('Datetime', inplace=True)\n",
    "\n",
    "sky_observations.head()"
   ]
  },
  {
   "cell_type": "code",
   "execution_count": 20,
   "metadata": {
    "slideshow": {
     "slide_type": "skip"
    }
   },
   "outputs": [
    {
     "data": {
      "text/html": [
       "<div>\n",
       "<style scoped>\n",
       "    .dataframe tbody tr th:only-of-type {\n",
       "        vertical-align: middle;\n",
       "    }\n",
       "\n",
       "    .dataframe tbody tr th {\n",
       "        vertical-align: top;\n",
       "    }\n",
       "\n",
       "    .dataframe thead th {\n",
       "        text-align: right;\n",
       "    }\n",
       "</style>\n",
       "<table border=\"1\" class=\"dataframe\">\n",
       "  <thead>\n",
       "    <tr style=\"text-align: right;\">\n",
       "      <th></th>\n",
       "      <th>Vis</th>\n",
       "      <th>Cloud</th>\n",
       "      <th>Current weather</th>\n",
       "      <th>Past weather</th>\n",
       "      <th>?</th>\n",
       "    </tr>\n",
       "    <tr>\n",
       "      <th>Datetime</th>\n",
       "      <th></th>\n",
       "      <th></th>\n",
       "      <th></th>\n",
       "      <th></th>\n",
       "      <th></th>\n",
       "    </tr>\n",
       "  </thead>\n",
       "  <tbody>\n",
       "    <tr>\n",
       "      <th>2013-01-03 03:00:00</th>\n",
       "      <td>NaN</td>\n",
       "      <td>8/8</td>\n",
       "      <td>NaN</td>\n",
       "      <td>NaN</td>\n",
       "      <td>NaN</td>\n",
       "    </tr>\n",
       "    <tr>\n",
       "      <th>2013-01-03 06:00:00</th>\n",
       "      <td>NaN</td>\n",
       "      <td>8/8</td>\n",
       "      <td>NaN</td>\n",
       "      <td>NaN</td>\n",
       "      <td>NaN</td>\n",
       "    </tr>\n",
       "    <tr>\n",
       "      <th>2013-01-03 09:00:00</th>\n",
       "      <td>NaN</td>\n",
       "      <td>1/8</td>\n",
       "      <td>NaN</td>\n",
       "      <td>NaN</td>\n",
       "      <td>NaN</td>\n",
       "    </tr>\n",
       "    <tr>\n",
       "      <th>2013-01-05 09:00:00</th>\n",
       "      <td>25000.0</td>\n",
       "      <td>clear</td>\n",
       "      <td>NaN</td>\n",
       "      <td>NaN</td>\n",
       "      <td>NaN</td>\n",
       "    </tr>\n",
       "    <tr>\n",
       "      <th>2013-01-05 18:00:00</th>\n",
       "      <td>NaN</td>\n",
       "      <td>4/8</td>\n",
       "      <td>NaN</td>\n",
       "      <td>NaN</td>\n",
       "      <td>NaN</td>\n",
       "    </tr>\n",
       "  </tbody>\n",
       "</table>\n",
       "</div>"
      ],
      "text/plain": [
       "                         Vis  Cloud  Current weather  Past weather   ?\n",
       "Datetime                                                              \n",
       "2013-01-03 03:00:00      NaN    8/8              NaN           NaN NaN\n",
       "2013-01-03 06:00:00      NaN    8/8              NaN           NaN NaN\n",
       "2013-01-03 09:00:00      NaN    1/8              NaN           NaN NaN\n",
       "2013-01-05 09:00:00  25000.0  clear              NaN           NaN NaN\n",
       "2013-01-05 18:00:00      NaN    4/8              NaN           NaN NaN"
      ]
     },
     "execution_count": 20,
     "metadata": {},
     "output_type": "execute_result"
    }
   ],
   "source": [
    "# Drop rows that have no data\n",
    "sky_observations.dropna(how='all', inplace=True)\n",
    "\n",
    "sky_observations.head()"
   ]
  },
  {
   "cell_type": "code",
   "execution_count": 21,
   "metadata": {
    "slideshow": {
     "slide_type": "skip"
    }
   },
   "outputs": [
    {
     "data": {
      "text/plain": [
       "Vis                float64\n",
       "Cloud               object\n",
       "Current weather    float64\n",
       "Past weather       float64\n",
       "?                  float64\n",
       "dtype: object"
      ]
     },
     "execution_count": 21,
     "metadata": {},
     "output_type": "execute_result"
    }
   ],
   "source": [
    "# Display the inferred data types\n",
    "sky_observations.dtypes"
   ]
  },
  {
   "cell_type": "code",
   "execution_count": 22,
   "metadata": {
    "slideshow": {
     "slide_type": "skip"
    }
   },
   "outputs": [
    {
     "data": {
      "text/plain": [
       "array(['8/8', '1/8', 'clear', '4/8', '6/8', '3/8', '7/8', nan, '2/8',\n",
       "       '5/8'], dtype=object)"
      ]
     },
     "execution_count": 22,
     "metadata": {},
     "output_type": "execute_result"
    }
   ],
   "source": [
    "# What are the values in the 'Cloud' column?\n",
    "sky_observations['Cloud'].unique()"
   ]
  },
  {
   "cell_type": "code",
   "execution_count": 23,
   "metadata": {
    "slideshow": {
     "slide_type": "skip"
    }
   },
   "outputs": [
    {
     "data": {
      "text/html": [
       "<div>\n",
       "<style scoped>\n",
       "    .dataframe tbody tr th:only-of-type {\n",
       "        vertical-align: middle;\n",
       "    }\n",
       "\n",
       "    .dataframe tbody tr th {\n",
       "        vertical-align: top;\n",
       "    }\n",
       "\n",
       "    .dataframe thead th {\n",
       "        text-align: right;\n",
       "    }\n",
       "</style>\n",
       "<table border=\"1\" class=\"dataframe\">\n",
       "  <thead>\n",
       "    <tr style=\"text-align: right;\">\n",
       "      <th></th>\n",
       "      <th>Vis</th>\n",
       "      <th>Cloud</th>\n",
       "      <th>Current weather</th>\n",
       "      <th>Past weather</th>\n",
       "      <th>?</th>\n",
       "    </tr>\n",
       "    <tr>\n",
       "      <th>Datetime</th>\n",
       "      <th></th>\n",
       "      <th></th>\n",
       "      <th></th>\n",
       "      <th></th>\n",
       "      <th></th>\n",
       "    </tr>\n",
       "  </thead>\n",
       "  <tbody>\n",
       "    <tr>\n",
       "      <th>2013-01-03 03:00:00</th>\n",
       "      <td>NaN</td>\n",
       "      <td>1.000</td>\n",
       "      <td>NaN</td>\n",
       "      <td>NaN</td>\n",
       "      <td>NaN</td>\n",
       "    </tr>\n",
       "    <tr>\n",
       "      <th>2013-01-03 06:00:00</th>\n",
       "      <td>NaN</td>\n",
       "      <td>1.000</td>\n",
       "      <td>NaN</td>\n",
       "      <td>NaN</td>\n",
       "      <td>NaN</td>\n",
       "    </tr>\n",
       "    <tr>\n",
       "      <th>2013-01-03 09:00:00</th>\n",
       "      <td>NaN</td>\n",
       "      <td>0.125</td>\n",
       "      <td>NaN</td>\n",
       "      <td>NaN</td>\n",
       "      <td>NaN</td>\n",
       "    </tr>\n",
       "    <tr>\n",
       "      <th>2013-01-05 09:00:00</th>\n",
       "      <td>25000.0</td>\n",
       "      <td>0.000</td>\n",
       "      <td>NaN</td>\n",
       "      <td>NaN</td>\n",
       "      <td>NaN</td>\n",
       "    </tr>\n",
       "    <tr>\n",
       "      <th>2013-01-05 18:00:00</th>\n",
       "      <td>NaN</td>\n",
       "      <td>0.500</td>\n",
       "      <td>NaN</td>\n",
       "      <td>NaN</td>\n",
       "      <td>NaN</td>\n",
       "    </tr>\n",
       "  </tbody>\n",
       "</table>\n",
       "</div>"
      ],
      "text/plain": [
       "                         Vis  Cloud  Current weather  Past weather   ?\n",
       "Datetime                                                              \n",
       "2013-01-03 03:00:00      NaN  1.000              NaN           NaN NaN\n",
       "2013-01-03 06:00:00      NaN  1.000              NaN           NaN NaN\n",
       "2013-01-03 09:00:00      NaN  0.125              NaN           NaN NaN\n",
       "2013-01-05 09:00:00  25000.0  0.000              NaN           NaN NaN\n",
       "2013-01-05 18:00:00      NaN  0.500              NaN           NaN NaN"
      ]
     },
     "execution_count": 23,
     "metadata": {},
     "output_type": "execute_result"
    }
   ],
   "source": [
    "# 'obscured' means that the visibility was too low to see clouds. We will consider it to be NaN.\n",
    "\n",
    "# Define a function to Change the 'Cloud' column to numerical values\n",
    "def cloud_to_numeric(s):\n",
    "    if s == 'clear' or pd.isnull(s):\n",
    "        return 0\n",
    "    else: \n",
    "        return int(s[0]) / 8.0\n",
    "\n",
    "# Apply the function to every item and assign it back to the original dataframe\n",
    "sky_observations['Cloud'] = \\\n",
    "    sky_observations['Cloud'].apply(cloud_to_numeric, convert_dtype=False).astype('float64')\n",
    "sky_observations.head()"
   ]
  },
  {
   "cell_type": "code",
   "execution_count": 24,
   "metadata": {
    "slideshow": {
     "slide_type": "skip"
    }
   },
   "outputs": [
    {
     "data": {
      "text/plain": [
       "[<matplotlib.lines.Line2D at 0x1584ce95e20>]"
      ]
     },
     "execution_count": 24,
     "metadata": {},
     "output_type": "execute_result"
    },
    {
     "data": {
      "image/png": "[encoded data removed]",
      "text/plain": [
       "<Figure size 1296x360 with 1 Axes>"
      ]
     },
     "metadata": {},
     "output_type": "display_data"
    }
   ],
   "source": [
    "# Plot the cloud cover with scatter plot using matplotlib\n",
    "clouds = sky_observations[['Cloud']][:100]\n",
    "plt.plot_date(clouds.index, clouds.values)"
   ]
  },
  {
   "cell_type": "code",
   "execution_count": 25,
   "metadata": {
    "slideshow": {
     "slide_type": "skip"
    }
   },
   "outputs": [
    {
     "data": {
      "text/html": [
       "<div>\n",
       "<style scoped>\n",
       "    .dataframe tbody tr th:only-of-type {\n",
       "        vertical-align: middle;\n",
       "    }\n",
       "\n",
       "    .dataframe tbody tr th {\n",
       "        vertical-align: top;\n",
       "    }\n",
       "\n",
       "    .dataframe thead th {\n",
       "        text-align: right;\n",
       "    }\n",
       "</style>\n",
       "<table border=\"1\" class=\"dataframe\">\n",
       "  <thead>\n",
       "    <tr style=\"text-align: right;\">\n",
       "      <th></th>\n",
       "      <th>Cloud</th>\n",
       "      <th>Dew pt</th>\n",
       "      <th>Feels like</th>\n",
       "      <th>Fire</th>\n",
       "      <th>Pres</th>\n",
       "      <th>Rain</th>\n",
       "      <th>Rain 10'</th>\n",
       "      <th>Tmp</th>\n",
       "      <th>Wind dir</th>\n",
       "      <th>Wind gust</th>\n",
       "      <th>Wind spd</th>\n",
       "      <th>rh</th>\n",
       "    </tr>\n",
       "    <tr>\n",
       "      <th>Datetime</th>\n",
       "      <th></th>\n",
       "      <th></th>\n",
       "      <th></th>\n",
       "      <th></th>\n",
       "      <th></th>\n",
       "      <th></th>\n",
       "      <th></th>\n",
       "      <th></th>\n",
       "      <th></th>\n",
       "      <th></th>\n",
       "      <th></th>\n",
       "      <th></th>\n",
       "    </tr>\n",
       "  </thead>\n",
       "  <tbody>\n",
       "    <tr>\n",
       "      <th>2013-01-01 00:00:00</th>\n",
       "      <td>NaN</td>\n",
       "      <td>3.7</td>\n",
       "      <td>15.9</td>\n",
       "      <td>5.0</td>\n",
       "      <td>1014.1</td>\n",
       "      <td>0.0</td>\n",
       "      <td>0.0</td>\n",
       "      <td>15.9</td>\n",
       "      <td>67.5</td>\n",
       "      <td>6.0</td>\n",
       "      <td>2.0</td>\n",
       "      <td>44.0</td>\n",
       "    </tr>\n",
       "    <tr>\n",
       "      <th>2013-01-01 00:30:00</th>\n",
       "      <td>NaN</td>\n",
       "      <td>4.7</td>\n",
       "      <td>14.5</td>\n",
       "      <td>3.0</td>\n",
       "      <td>1014.0</td>\n",
       "      <td>0.0</td>\n",
       "      <td>0.0</td>\n",
       "      <td>14.5</td>\n",
       "      <td>112.5</td>\n",
       "      <td>0.0</td>\n",
       "      <td>0.0</td>\n",
       "      <td>52.0</td>\n",
       "    </tr>\n",
       "    <tr>\n",
       "      <th>2013-01-01 01:00:00</th>\n",
       "      <td>NaN</td>\n",
       "      <td>4.6</td>\n",
       "      <td>12.8</td>\n",
       "      <td>3.0</td>\n",
       "      <td>1013.5</td>\n",
       "      <td>0.0</td>\n",
       "      <td>0.0</td>\n",
       "      <td>12.8</td>\n",
       "      <td>157.5</td>\n",
       "      <td>0.0</td>\n",
       "      <td>0.0</td>\n",
       "      <td>57.0</td>\n",
       "    </tr>\n",
       "    <tr>\n",
       "      <th>2013-01-01 01:30:00</th>\n",
       "      <td>NaN</td>\n",
       "      <td>5.9</td>\n",
       "      <td>13.3</td>\n",
       "      <td>3.0</td>\n",
       "      <td>1013.4</td>\n",
       "      <td>0.0</td>\n",
       "      <td>0.0</td>\n",
       "      <td>13.3</td>\n",
       "      <td>202.5</td>\n",
       "      <td>9.0</td>\n",
       "      <td>6.0</td>\n",
       "      <td>61.0</td>\n",
       "    </tr>\n",
       "    <tr>\n",
       "      <th>2013-01-01 02:00:00</th>\n",
       "      <td>NaN</td>\n",
       "      <td>4.7</td>\n",
       "      <td>12.5</td>\n",
       "      <td>3.0</td>\n",
       "      <td>1013.2</td>\n",
       "      <td>0.0</td>\n",
       "      <td>0.0</td>\n",
       "      <td>12.5</td>\n",
       "      <td>225.0</td>\n",
       "      <td>7.0</td>\n",
       "      <td>2.0</td>\n",
       "      <td>59.0</td>\n",
       "    </tr>\n",
       "  </tbody>\n",
       "</table>\n",
       "</div>"
      ],
      "text/plain": [
       "                     Cloud  Dew pt  Feels like  Fire    Pres  Rain  Rain 10'  \\\n",
       "Datetime                                                                       \n",
       "2013-01-01 00:00:00    NaN     3.7        15.9   5.0  1014.1   0.0       0.0   \n",
       "2013-01-01 00:30:00    NaN     4.7        14.5   3.0  1014.0   0.0       0.0   \n",
       "2013-01-01 01:00:00    NaN     4.6        12.8   3.0  1013.5   0.0       0.0   \n",
       "2013-01-01 01:30:00    NaN     5.9        13.3   3.0  1013.4   0.0       0.0   \n",
       "2013-01-01 02:00:00    NaN     4.7        12.5   3.0  1013.2   0.0       0.0   \n",
       "\n",
       "                      Tmp  Wind dir  Wind gust  Wind spd    rh  \n",
       "Datetime                                                        \n",
       "2013-01-01 00:00:00  15.9      67.5        6.0       2.0  44.0  \n",
       "2013-01-01 00:30:00  14.5     112.5        0.0       0.0  52.0  \n",
       "2013-01-01 01:00:00  12.8     157.5        0.0       0.0  57.0  \n",
       "2013-01-01 01:30:00  13.3     202.5        9.0       6.0  61.0  \n",
       "2013-01-01 02:00:00  12.5     225.0        7.0       2.0  59.0  "
      ]
     },
     "execution_count": 25,
     "metadata": {},
     "output_type": "execute_result"
    }
   ],
   "source": [
    "# Join the two observations together\n",
    "combined_observations = regular_observations.combine_first(sky_observations[['Cloud']])\n",
    "combined_observations.head()"
   ]
  },
  {
   "cell_type": "code",
   "execution_count": 26,
   "metadata": {
    "slideshow": {
     "slide_type": "skip"
    }
   },
   "outputs": [
    {
     "data": {
      "text/plain": [
       "DatetimeIndex(['2013-01-01 00:00:00', '2013-01-01 00:30:00',\n",
       "               '2013-01-01 01:00:00', '2013-01-01 01:30:00',\n",
       "               '2013-01-01 02:00:00', '2013-01-01 02:30:00',\n",
       "               '2013-01-01 03:00:00', '2013-01-01 03:30:00',\n",
       "               '2013-01-01 04:00:00', '2013-01-01 04:30:00',\n",
       "               ...\n",
       "               '2016-12-31 19:00:00', '2016-12-31 19:30:00',\n",
       "               '2016-12-31 20:00:00', '2016-12-31 20:30:00',\n",
       "               '2016-12-31 21:00:00', '2016-12-31 21:30:00',\n",
       "               '2016-12-31 22:00:00', '2016-12-31 22:30:00',\n",
       "               '2016-12-31 23:00:00', '2016-12-31 23:30:00'],\n",
       "              dtype='datetime64[ns]', length=70128, freq='30T')"
      ]
     },
     "execution_count": 26,
     "metadata": {},
     "output_type": "execute_result"
    }
   ],
   "source": [
    "# Create a new series with 30-minutely timestamps\n",
    "time_series = pd.date_range('2013-01-01', '2017-01-01', freq='30min')[:-1]\n",
    "time_series"
   ]
  },
  {
   "cell_type": "code",
   "execution_count": 27,
   "metadata": {
    "slideshow": {
     "slide_type": "skip"
    }
   },
   "outputs": [
    {
     "data": {
      "text/html": [
       "<div>\n",
       "<style scoped>\n",
       "    .dataframe tbody tr th:only-of-type {\n",
       "        vertical-align: middle;\n",
       "    }\n",
       "\n",
       "    .dataframe tbody tr th {\n",
       "        vertical-align: top;\n",
       "    }\n",
       "\n",
       "    .dataframe thead th {\n",
       "        text-align: right;\n",
       "    }\n",
       "</style>\n",
       "<table border=\"1\" class=\"dataframe\">\n",
       "  <thead>\n",
       "    <tr style=\"text-align: right;\">\n",
       "      <th></th>\n",
       "      <th>Cloud</th>\n",
       "      <th>Dew pt</th>\n",
       "      <th>Feels like</th>\n",
       "      <th>Fire</th>\n",
       "      <th>Pres</th>\n",
       "      <th>Rain</th>\n",
       "      <th>Rain 10'</th>\n",
       "      <th>Tmp</th>\n",
       "      <th>Wind dir</th>\n",
       "      <th>Wind gust</th>\n",
       "      <th>Wind spd</th>\n",
       "      <th>rh</th>\n",
       "    </tr>\n",
       "  </thead>\n",
       "  <tbody>\n",
       "    <tr>\n",
       "      <th>2013-01-01 00:00:00</th>\n",
       "      <td>NaN</td>\n",
       "      <td>3.7</td>\n",
       "      <td>15.9</td>\n",
       "      <td>5.0</td>\n",
       "      <td>1014.1</td>\n",
       "      <td>0.0</td>\n",
       "      <td>0.0</td>\n",
       "      <td>15.9</td>\n",
       "      <td>67.5</td>\n",
       "      <td>6.0</td>\n",
       "      <td>2.0</td>\n",
       "      <td>44.0</td>\n",
       "    </tr>\n",
       "    <tr>\n",
       "      <th>2013-01-01 00:30:00</th>\n",
       "      <td>NaN</td>\n",
       "      <td>4.7</td>\n",
       "      <td>14.5</td>\n",
       "      <td>3.0</td>\n",
       "      <td>1014.0</td>\n",
       "      <td>0.0</td>\n",
       "      <td>0.0</td>\n",
       "      <td>14.5</td>\n",
       "      <td>112.5</td>\n",
       "      <td>0.0</td>\n",
       "      <td>0.0</td>\n",
       "      <td>52.0</td>\n",
       "    </tr>\n",
       "    <tr>\n",
       "      <th>2013-01-01 01:00:00</th>\n",
       "      <td>NaN</td>\n",
       "      <td>4.6</td>\n",
       "      <td>12.8</td>\n",
       "      <td>3.0</td>\n",
       "      <td>1013.5</td>\n",
       "      <td>0.0</td>\n",
       "      <td>0.0</td>\n",
       "      <td>12.8</td>\n",
       "      <td>157.5</td>\n",
       "      <td>0.0</td>\n",
       "      <td>0.0</td>\n",
       "      <td>57.0</td>\n",
       "    </tr>\n",
       "    <tr>\n",
       "      <th>2013-01-01 01:30:00</th>\n",
       "      <td>NaN</td>\n",
       "      <td>5.9</td>\n",
       "      <td>13.3</td>\n",
       "      <td>3.0</td>\n",
       "      <td>1013.4</td>\n",
       "      <td>0.0</td>\n",
       "      <td>0.0</td>\n",
       "      <td>13.3</td>\n",
       "      <td>202.5</td>\n",
       "      <td>9.0</td>\n",
       "      <td>6.0</td>\n",
       "      <td>61.0</td>\n",
       "    </tr>\n",
       "    <tr>\n",
       "      <th>2013-01-01 02:00:00</th>\n",
       "      <td>NaN</td>\n",
       "      <td>4.7</td>\n",
       "      <td>12.5</td>\n",
       "      <td>3.0</td>\n",
       "      <td>1013.2</td>\n",
       "      <td>0.0</td>\n",
       "      <td>0.0</td>\n",
       "      <td>12.5</td>\n",
       "      <td>225.0</td>\n",
       "      <td>7.0</td>\n",
       "      <td>2.0</td>\n",
       "      <td>59.0</td>\n",
       "    </tr>\n",
       "    <tr>\n",
       "      <th>...</th>\n",
       "      <td>...</td>\n",
       "      <td>...</td>\n",
       "      <td>...</td>\n",
       "      <td>...</td>\n",
       "      <td>...</td>\n",
       "      <td>...</td>\n",
       "      <td>...</td>\n",
       "      <td>...</td>\n",
       "      <td>...</td>\n",
       "      <td>...</td>\n",
       "      <td>...</td>\n",
       "      <td>...</td>\n",
       "    </tr>\n",
       "    <tr>\n",
       "      <th>2016-12-31 21:30:00</th>\n",
       "      <td>NaN</td>\n",
       "      <td>NaN</td>\n",
       "      <td>NaN</td>\n",
       "      <td>NaN</td>\n",
       "      <td>NaN</td>\n",
       "      <td>NaN</td>\n",
       "      <td>NaN</td>\n",
       "      <td>NaN</td>\n",
       "      <td>NaN</td>\n",
       "      <td>NaN</td>\n",
       "      <td>NaN</td>\n",
       "      <td>NaN</td>\n",
       "    </tr>\n",
       "    <tr>\n",
       "      <th>2016-12-31 22:00:00</th>\n",
       "      <td>NaN</td>\n",
       "      <td>NaN</td>\n",
       "      <td>NaN</td>\n",
       "      <td>NaN</td>\n",
       "      <td>NaN</td>\n",
       "      <td>NaN</td>\n",
       "      <td>NaN</td>\n",
       "      <td>NaN</td>\n",
       "      <td>NaN</td>\n",
       "      <td>NaN</td>\n",
       "      <td>NaN</td>\n",
       "      <td>NaN</td>\n",
       "    </tr>\n",
       "    <tr>\n",
       "      <th>2016-12-31 22:30:00</th>\n",
       "      <td>NaN</td>\n",
       "      <td>NaN</td>\n",
       "      <td>NaN</td>\n",
       "      <td>NaN</td>\n",
       "      <td>NaN</td>\n",
       "      <td>NaN</td>\n",
       "      <td>NaN</td>\n",
       "      <td>NaN</td>\n",
       "      <td>NaN</td>\n",
       "      <td>NaN</td>\n",
       "      <td>NaN</td>\n",
       "      <td>NaN</td>\n",
       "    </tr>\n",
       "    <tr>\n",
       "      <th>2016-12-31 23:00:00</th>\n",
       "      <td>NaN</td>\n",
       "      <td>NaN</td>\n",
       "      <td>NaN</td>\n",
       "      <td>NaN</td>\n",
       "      <td>NaN</td>\n",
       "      <td>NaN</td>\n",
       "      <td>NaN</td>\n",
       "      <td>NaN</td>\n",
       "      <td>NaN</td>\n",
       "      <td>NaN</td>\n",
       "      <td>NaN</td>\n",
       "      <td>NaN</td>\n",
       "    </tr>\n",
       "    <tr>\n",
       "      <th>2016-12-31 23:30:00</th>\n",
       "      <td>NaN</td>\n",
       "      <td>NaN</td>\n",
       "      <td>NaN</td>\n",
       "      <td>NaN</td>\n",
       "      <td>NaN</td>\n",
       "      <td>NaN</td>\n",
       "      <td>NaN</td>\n",
       "      <td>NaN</td>\n",
       "      <td>NaN</td>\n",
       "      <td>NaN</td>\n",
       "      <td>NaN</td>\n",
       "      <td>NaN</td>\n",
       "    </tr>\n",
       "  </tbody>\n",
       "</table>\n",
       "<p>70128 rows × 12 columns</p>\n",
       "</div>"
      ],
      "text/plain": [
       "                     Cloud  Dew pt  Feels like  Fire    Pres  Rain  Rain 10'  \\\n",
       "2013-01-01 00:00:00    NaN     3.7        15.9   5.0  1014.1   0.0       0.0   \n",
       "2013-01-01 00:30:00    NaN     4.7        14.5   3.0  1014.0   0.0       0.0   \n",
       "2013-01-01 01:00:00    NaN     4.6        12.8   3.0  1013.5   0.0       0.0   \n",
       "2013-01-01 01:30:00    NaN     5.9        13.3   3.0  1013.4   0.0       0.0   \n",
       "2013-01-01 02:00:00    NaN     4.7        12.5   3.0  1013.2   0.0       0.0   \n",
       "...                    ...     ...         ...   ...     ...   ...       ...   \n",
       "2016-12-31 21:30:00    NaN     NaN         NaN   NaN     NaN   NaN       NaN   \n",
       "2016-12-31 22:00:00    NaN     NaN         NaN   NaN     NaN   NaN       NaN   \n",
       "2016-12-31 22:30:00    NaN     NaN         NaN   NaN     NaN   NaN       NaN   \n",
       "2016-12-31 23:00:00    NaN     NaN         NaN   NaN     NaN   NaN       NaN   \n",
       "2016-12-31 23:30:00    NaN     NaN         NaN   NaN     NaN   NaN       NaN   \n",
       "\n",
       "                      Tmp  Wind dir  Wind gust  Wind spd    rh  \n",
       "2013-01-01 00:00:00  15.9      67.5        6.0       2.0  44.0  \n",
       "2013-01-01 00:30:00  14.5     112.5        0.0       0.0  52.0  \n",
       "2013-01-01 01:00:00  12.8     157.5        0.0       0.0  57.0  \n",
       "2013-01-01 01:30:00  13.3     202.5        9.0       6.0  61.0  \n",
       "2013-01-01 02:00:00  12.5     225.0        7.0       2.0  59.0  \n",
       "...                   ...       ...        ...       ...   ...  \n",
       "2016-12-31 21:30:00   NaN       NaN        NaN       NaN   NaN  \n",
       "2016-12-31 22:00:00   NaN       NaN        NaN       NaN   NaN  \n",
       "2016-12-31 22:30:00   NaN       NaN        NaN       NaN   NaN  \n",
       "2016-12-31 23:00:00   NaN       NaN        NaN       NaN   NaN  \n",
       "2016-12-31 23:30:00   NaN       NaN        NaN       NaN   NaN  \n",
       "\n",
       "[70128 rows x 12 columns]"
      ]
     },
     "execution_count": 27,
     "metadata": {},
     "output_type": "execute_result"
    }
   ],
   "source": [
    "# Reindex our dataset\n",
    "indexed_observations = combined_observations.reindex(time_series)\n",
    "indexed_observations"
   ]
  },
  {
   "cell_type": "code",
   "execution_count": 28,
   "metadata": {
    "slideshow": {
     "slide_type": "skip"
    }
   },
   "outputs": [
    {
     "data": {
      "text/plain": [
       "Index(['Cloud', 'Dew pt', 'Feels like', 'Fire', 'Pres', 'Rain', 'Rain 10'',\n",
       "       'Tmp', 'Wind dir', 'Wind gust', 'Wind spd', 'rh'],\n",
       "      dtype='object')"
      ]
     },
     "execution_count": 28,
     "metadata": {},
     "output_type": "execute_result"
    }
   ],
   "source": [
    "# Display the columns in the dataset\n",
    "indexed_observations.columns"
   ]
  },
  {
   "cell_type": "code",
   "execution_count": 29,
   "metadata": {
    "slideshow": {
     "slide_type": "skip"
    }
   },
   "outputs": [
    {
     "data": {
      "text/html": [
       "<div>\n",
       "<style scoped>\n",
       "    .dataframe tbody tr th:only-of-type {\n",
       "        vertical-align: middle;\n",
       "    }\n",
       "\n",
       "    .dataframe tbody tr th {\n",
       "        vertical-align: top;\n",
       "    }\n",
       "\n",
       "    .dataframe thead th {\n",
       "        text-align: right;\n",
       "    }\n",
       "</style>\n",
       "<table border=\"1\" class=\"dataframe\">\n",
       "  <thead>\n",
       "    <tr style=\"text-align: right;\">\n",
       "      <th></th>\n",
       "      <th>Cloud</th>\n",
       "      <th>Dew pt</th>\n",
       "      <th>Feels like</th>\n",
       "      <th>Fire</th>\n",
       "      <th>Pres</th>\n",
       "      <th>Rain</th>\n",
       "      <th>Rain 10'</th>\n",
       "      <th>Tmp</th>\n",
       "      <th>Wind dir</th>\n",
       "      <th>Wind gust</th>\n",
       "      <th>Wind spd</th>\n",
       "      <th>rh</th>\n",
       "    </tr>\n",
       "  </thead>\n",
       "  <tbody>\n",
       "    <tr>\n",
       "      <th>2013-01-01 00:00:00</th>\n",
       "      <td>1.000</td>\n",
       "      <td>3.7</td>\n",
       "      <td>15.9</td>\n",
       "      <td>5.0</td>\n",
       "      <td>1014.1</td>\n",
       "      <td>0.0</td>\n",
       "      <td>0.0</td>\n",
       "      <td>15.9</td>\n",
       "      <td>67.5</td>\n",
       "      <td>6.0</td>\n",
       "      <td>2.0</td>\n",
       "      <td>44.0</td>\n",
       "    </tr>\n",
       "    <tr>\n",
       "      <th>2013-01-01 00:30:00</th>\n",
       "      <td>1.000</td>\n",
       "      <td>4.7</td>\n",
       "      <td>14.5</td>\n",
       "      <td>3.0</td>\n",
       "      <td>1014.0</td>\n",
       "      <td>0.0</td>\n",
       "      <td>0.0</td>\n",
       "      <td>14.5</td>\n",
       "      <td>112.5</td>\n",
       "      <td>0.0</td>\n",
       "      <td>0.0</td>\n",
       "      <td>52.0</td>\n",
       "    </tr>\n",
       "    <tr>\n",
       "      <th>2013-01-01 01:00:00</th>\n",
       "      <td>1.000</td>\n",
       "      <td>4.6</td>\n",
       "      <td>12.8</td>\n",
       "      <td>3.0</td>\n",
       "      <td>1013.5</td>\n",
       "      <td>0.0</td>\n",
       "      <td>0.0</td>\n",
       "      <td>12.8</td>\n",
       "      <td>157.5</td>\n",
       "      <td>0.0</td>\n",
       "      <td>0.0</td>\n",
       "      <td>57.0</td>\n",
       "    </tr>\n",
       "    <tr>\n",
       "      <th>2013-01-01 01:30:00</th>\n",
       "      <td>1.000</td>\n",
       "      <td>5.9</td>\n",
       "      <td>13.3</td>\n",
       "      <td>3.0</td>\n",
       "      <td>1013.4</td>\n",
       "      <td>0.0</td>\n",
       "      <td>0.0</td>\n",
       "      <td>13.3</td>\n",
       "      <td>202.5</td>\n",
       "      <td>9.0</td>\n",
       "      <td>6.0</td>\n",
       "      <td>61.0</td>\n",
       "    </tr>\n",
       "    <tr>\n",
       "      <th>2013-01-01 02:00:00</th>\n",
       "      <td>1.000</td>\n",
       "      <td>4.7</td>\n",
       "      <td>12.5</td>\n",
       "      <td>3.0</td>\n",
       "      <td>1013.2</td>\n",
       "      <td>0.0</td>\n",
       "      <td>0.0</td>\n",
       "      <td>12.5</td>\n",
       "      <td>225.0</td>\n",
       "      <td>7.0</td>\n",
       "      <td>2.0</td>\n",
       "      <td>59.0</td>\n",
       "    </tr>\n",
       "    <tr>\n",
       "      <th>...</th>\n",
       "      <td>...</td>\n",
       "      <td>...</td>\n",
       "      <td>...</td>\n",
       "      <td>...</td>\n",
       "      <td>...</td>\n",
       "      <td>...</td>\n",
       "      <td>...</td>\n",
       "      <td>...</td>\n",
       "      <td>...</td>\n",
       "      <td>...</td>\n",
       "      <td>...</td>\n",
       "      <td>...</td>\n",
       "    </tr>\n",
       "    <tr>\n",
       "      <th>2016-12-31 21:30:00</th>\n",
       "      <td>0.625</td>\n",
       "      <td>11.4</td>\n",
       "      <td>14.0</td>\n",
       "      <td>2.0</td>\n",
       "      <td>1018.3</td>\n",
       "      <td>0.0</td>\n",
       "      <td>0.0</td>\n",
       "      <td>14.6</td>\n",
       "      <td>135.0</td>\n",
       "      <td>17.0</td>\n",
       "      <td>11.0</td>\n",
       "      <td>81.0</td>\n",
       "    </tr>\n",
       "    <tr>\n",
       "      <th>2016-12-31 22:00:00</th>\n",
       "      <td>0.625</td>\n",
       "      <td>11.4</td>\n",
       "      <td>14.0</td>\n",
       "      <td>2.0</td>\n",
       "      <td>1018.3</td>\n",
       "      <td>0.0</td>\n",
       "      <td>0.0</td>\n",
       "      <td>14.6</td>\n",
       "      <td>135.0</td>\n",
       "      <td>17.0</td>\n",
       "      <td>11.0</td>\n",
       "      <td>81.0</td>\n",
       "    </tr>\n",
       "    <tr>\n",
       "      <th>2016-12-31 22:30:00</th>\n",
       "      <td>0.625</td>\n",
       "      <td>11.4</td>\n",
       "      <td>14.0</td>\n",
       "      <td>2.0</td>\n",
       "      <td>1018.3</td>\n",
       "      <td>0.0</td>\n",
       "      <td>0.0</td>\n",
       "      <td>14.6</td>\n",
       "      <td>135.0</td>\n",
       "      <td>17.0</td>\n",
       "      <td>11.0</td>\n",
       "      <td>81.0</td>\n",
       "    </tr>\n",
       "    <tr>\n",
       "      <th>2016-12-31 23:00:00</th>\n",
       "      <td>0.625</td>\n",
       "      <td>11.4</td>\n",
       "      <td>14.0</td>\n",
       "      <td>2.0</td>\n",
       "      <td>1018.3</td>\n",
       "      <td>0.0</td>\n",
       "      <td>0.0</td>\n",
       "      <td>14.6</td>\n",
       "      <td>135.0</td>\n",
       "      <td>17.0</td>\n",
       "      <td>11.0</td>\n",
       "      <td>81.0</td>\n",
       "    </tr>\n",
       "    <tr>\n",
       "      <th>2016-12-31 23:30:00</th>\n",
       "      <td>0.625</td>\n",
       "      <td>11.4</td>\n",
       "      <td>14.0</td>\n",
       "      <td>2.0</td>\n",
       "      <td>1018.3</td>\n",
       "      <td>0.0</td>\n",
       "      <td>0.0</td>\n",
       "      <td>14.6</td>\n",
       "      <td>135.0</td>\n",
       "      <td>17.0</td>\n",
       "      <td>11.0</td>\n",
       "      <td>81.0</td>\n",
       "    </tr>\n",
       "  </tbody>\n",
       "</table>\n",
       "<p>70128 rows × 12 columns</p>\n",
       "</div>"
      ],
      "text/plain": [
       "                     Cloud  Dew pt  Feels like  Fire    Pres  Rain  Rain 10'  \\\n",
       "2013-01-01 00:00:00  1.000     3.7        15.9   5.0  1014.1   0.0       0.0   \n",
       "2013-01-01 00:30:00  1.000     4.7        14.5   3.0  1014.0   0.0       0.0   \n",
       "2013-01-01 01:00:00  1.000     4.6        12.8   3.0  1013.5   0.0       0.0   \n",
       "2013-01-01 01:30:00  1.000     5.9        13.3   3.0  1013.4   0.0       0.0   \n",
       "2013-01-01 02:00:00  1.000     4.7        12.5   3.0  1013.2   0.0       0.0   \n",
       "...                    ...     ...         ...   ...     ...   ...       ...   \n",
       "2016-12-31 21:30:00  0.625    11.4        14.0   2.0  1018.3   0.0       0.0   \n",
       "2016-12-31 22:00:00  0.625    11.4        14.0   2.0  1018.3   0.0       0.0   \n",
       "2016-12-31 22:30:00  0.625    11.4        14.0   2.0  1018.3   0.0       0.0   \n",
       "2016-12-31 23:00:00  0.625    11.4        14.0   2.0  1018.3   0.0       0.0   \n",
       "2016-12-31 23:30:00  0.625    11.4        14.0   2.0  1018.3   0.0       0.0   \n",
       "\n",
       "                      Tmp  Wind dir  Wind gust  Wind spd    rh  \n",
       "2013-01-01 00:00:00  15.9      67.5        6.0       2.0  44.0  \n",
       "2013-01-01 00:30:00  14.5     112.5        0.0       0.0  52.0  \n",
       "2013-01-01 01:00:00  12.8     157.5        0.0       0.0  57.0  \n",
       "2013-01-01 01:30:00  13.3     202.5        9.0       6.0  61.0  \n",
       "2013-01-01 02:00:00  12.5     225.0        7.0       2.0  59.0  \n",
       "...                   ...       ...        ...       ...   ...  \n",
       "2016-12-31 21:30:00  14.6     135.0       17.0      11.0  81.0  \n",
       "2016-12-31 22:00:00  14.6     135.0       17.0      11.0  81.0  \n",
       "2016-12-31 22:30:00  14.6     135.0       17.0      11.0  81.0  \n",
       "2016-12-31 23:00:00  14.6     135.0       17.0      11.0  81.0  \n",
       "2016-12-31 23:30:00  14.6     135.0       17.0      11.0  81.0  \n",
       "\n",
       "[70128 rows x 12 columns]"
      ]
     },
     "execution_count": 29,
     "metadata": {},
     "output_type": "execute_result"
    }
   ],
   "source": [
    "# Interpolate data to fill NaN\n",
    "for column in indexed_observations.columns:\n",
    "    indexed_observations[column].interpolate('time', inplace=True, limit_direction='both')\n",
    "\n",
    "# Preview the cleaned data    \n",
    "indexed_observations"
   ]
  },
  {
   "cell_type": "code",
   "execution_count": 30,
   "metadata": {
    "slideshow": {
     "slide_type": "skip"
    }
   },
   "outputs": [
    {
     "data": {
      "image/png": "[encoded data removed]",
      "text/plain": [
       "<Figure size 1296x360 with 1 Axes>"
      ]
     },
     "metadata": {},
     "output_type": "display_data"
    },
    {
     "data": {
      "image/png": "[encoded data removed]",
      "text/plain": [
       "<Figure size 1296x360 with 1 Axes>"
      ]
     },
     "metadata": {},
     "output_type": "display_data"
    }
   ],
   "source": [
    "# Current bug in pandas fails plotting some interpolated frequencies\n",
    "# see https://github.com/pandas-dev/pandas/issues/14763 (to be fixed by 31 August, 2017)\n",
    "\n",
    "# Convert pandas DateTimeIndex to Python's datetime.datetime\n",
    "timestamps = indexed_observations.index[:1000].to_pydatetime()\n",
    "\n",
    "# Selecting a few columns to plot\n",
    "selection1 = indexed_observations[['Wind spd', 'Wind gust', 'Tmp', 'Feels like']][:1000]\n",
    "selection2 = indexed_observations[['Cloud']][:1000]\n",
    "\n",
    "# For now, we copy the index and values to matplotlib\n",
    "# see https://stackoverflow.com/questions/43206554/typeerror-float-argument-must-be-a-string-or-a-number-not-period/45191625#45191625\n",
    "legend = plt.plot_date(timestamps, selection1.values, '-')\n",
    "plt.legend(selection1.columns)\n",
    "plt.show()\n",
    "\n",
    "legend = plt.plot_date(timestamps, selection2.values, '-')\n",
    "plt.legend(selection2.columns)\n",
    "plt.show()"
   ]
  }
 ],
 "metadata": {
  "celltoolbar": "Slideshow",
  "kernelspec": {
   "display_name": "Python 3",
   "language": "python",
   "name": "python3"
  },
  "language_info": {
   "codemirror_mode": {
    "name": "ipython",
    "version": 3
   },
   "file_extension": ".py",
   "mimetype": "text/x-python",
   "name": "python",
   "nbconvert_exporter": "python",
   "pygments_lexer": "ipython3",
   "version": "3.8.2"
  }
 },
 "nbformat": 4,
 "nbformat_minor": 2
}
